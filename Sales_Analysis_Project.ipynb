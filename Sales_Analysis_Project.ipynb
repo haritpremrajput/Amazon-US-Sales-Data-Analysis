{
  "cells": [
    {
      "cell_type": "markdown",
      "metadata": {
        "id": "view-in-github",
        "colab_type": "text"
      },
      "source": [
        "<a href=\"https://colab.research.google.com/github/haritpremrajput/Amazon-US-Sales-Data-Analysis/blob/main/Sales_Analysis_Project.ipynb\" target=\"_parent\"><img src=\"https://colab.research.google.com/assets/colab-badge.svg\" alt=\"Open In Colab\"/></a>"
      ]
    },
    {
      "cell_type": "markdown",
      "id": "b34b0eb6",
      "metadata": {
        "id": "b34b0eb6"
      },
      "source": [
        "# Importing essential libraries\n",
        "\n",
        "   "
      ]
    },
    {
      "cell_type": "code",
      "execution_count": null,
      "id": "f0a003cf",
      "metadata": {
        "id": "f0a003cf"
      },
      "outputs": [],
      "source": [
        "import os\n",
        "import pandas as pd\n",
        "import matplotlib.pyplot as plt\n",
        "import seaborn as sns"
      ]
    },
    {
      "cell_type": "markdown",
      "id": "3b7cd540",
      "metadata": {
        "id": "3b7cd540"
      },
      "source": [
        "# Importing files"
      ]
    },
    {
      "cell_type": "code",
      "execution_count": null,
      "id": "966a7476",
      "metadata": {
        "id": "966a7476",
        "outputId": "c658f8f5-d5d2-4787-f86d-8110481b8ce4"
      },
      "outputs": [
        {
          "data": {
            "text/plain": [
              "['Sales_April_2019.csv',\n",
              " 'Sales_August_2019.csv',\n",
              " 'Sales_December_2019.csv',\n",
              " 'Sales_February_2019.csv',\n",
              " 'Sales_January_2019.csv',\n",
              " 'Sales_July_2019.csv',\n",
              " 'Sales_June_2019.csv',\n",
              " 'Sales_March_2019.csv',\n",
              " 'Sales_May_2019.csv',\n",
              " 'Sales_November_2019.csv',\n",
              " 'Sales_October_2019.csv',\n",
              " 'Sales_September_2019.csv']"
            ]
          },
          "execution_count": 2,
          "metadata": {},
          "output_type": "execute_result"
        }
      ],
      "source": [
        "files = os.listdir(\"C:\\\\Users\\\\nitin\\\\OneDrive\\\\Desktop\\\\Sales_Data\")\n",
        "files"
      ]
    },
    {
      "cell_type": "markdown",
      "id": "e1863902",
      "metadata": {
        "id": "e1863902"
      },
      "source": [
        "# Merging Files into single file"
      ]
    },
    {
      "cell_type": "code",
      "execution_count": null,
      "id": "9d8d0805",
      "metadata": {
        "id": "9d8d0805"
      },
      "outputs": [],
      "source": [
        "path = \"C:\\\\Users\\\\nitin\\\\OneDrive\\\\Desktop\\\\Sales_Data\"\n",
        "\n",
        "#Blank dataframe\n",
        "merged_data = pd.DataFrame()\n",
        "\n",
        "for file in files:\n",
        "    current_file = pd.read_csv(path + \"\\\\\" + file)\n",
        "    merged_data = pd.concat([merged_data, current_file])"
      ]
    },
    {
      "cell_type": "code",
      "execution_count": null,
      "id": "ef3db2b0",
      "metadata": {
        "id": "ef3db2b0",
        "outputId": "811293ab-8014-4d8a-8e47-8ca3c11ec1ef"
      },
      "outputs": [
        {
          "data": {
            "text/plain": [
              "(186850, 6)"
            ]
          },
          "execution_count": 4,
          "metadata": {},
          "output_type": "execute_result"
        }
      ],
      "source": [
        "merged_data.shape"
      ]
    },
    {
      "cell_type": "code",
      "execution_count": null,
      "id": "b19b6246",
      "metadata": {
        "id": "b19b6246",
        "outputId": "3c148afb-5c1c-4031-9bed-bc2eaa36994b"
      },
      "outputs": [
        {
          "data": {
            "text/html": [
              "<div>\n",
              "<style scoped>\n",
              "    .dataframe tbody tr th:only-of-type {\n",
              "        vertical-align: middle;\n",
              "    }\n",
              "\n",
              "    .dataframe tbody tr th {\n",
              "        vertical-align: top;\n",
              "    }\n",
              "\n",
              "    .dataframe thead th {\n",
              "        text-align: right;\n",
              "    }\n",
              "</style>\n",
              "<table border=\"1\" class=\"dataframe\">\n",
              "  <thead>\n",
              "    <tr style=\"text-align: right;\">\n",
              "      <th></th>\n",
              "      <th>Order ID</th>\n",
              "      <th>Product</th>\n",
              "      <th>Quantity Ordered</th>\n",
              "      <th>Price Each</th>\n",
              "      <th>Order Date</th>\n",
              "      <th>Purchase Address</th>\n",
              "    </tr>\n",
              "  </thead>\n",
              "  <tbody>\n",
              "    <tr>\n",
              "      <th>0</th>\n",
              "      <td>176558</td>\n",
              "      <td>USB-C Charging Cable</td>\n",
              "      <td>2</td>\n",
              "      <td>11.95</td>\n",
              "      <td>04/19/19 08:46</td>\n",
              "      <td>917 1st St, Dallas, TX 75001</td>\n",
              "    </tr>\n",
              "    <tr>\n",
              "      <th>1</th>\n",
              "      <td>NaN</td>\n",
              "      <td>NaN</td>\n",
              "      <td>NaN</td>\n",
              "      <td>NaN</td>\n",
              "      <td>NaN</td>\n",
              "      <td>NaN</td>\n",
              "    </tr>\n",
              "    <tr>\n",
              "      <th>2</th>\n",
              "      <td>176559</td>\n",
              "      <td>Bose SoundSport Headphones</td>\n",
              "      <td>1</td>\n",
              "      <td>99.99</td>\n",
              "      <td>04/07/19 22:30</td>\n",
              "      <td>682 Chestnut St, Boston, MA 02215</td>\n",
              "    </tr>\n",
              "    <tr>\n",
              "      <th>3</th>\n",
              "      <td>176560</td>\n",
              "      <td>Google Phone</td>\n",
              "      <td>1</td>\n",
              "      <td>600</td>\n",
              "      <td>04/12/19 14:38</td>\n",
              "      <td>669 Spruce St, Los Angeles, CA 90001</td>\n",
              "    </tr>\n",
              "    <tr>\n",
              "      <th>4</th>\n",
              "      <td>176560</td>\n",
              "      <td>Wired Headphones</td>\n",
              "      <td>1</td>\n",
              "      <td>11.99</td>\n",
              "      <td>04/12/19 14:38</td>\n",
              "      <td>669 Spruce St, Los Angeles, CA 90001</td>\n",
              "    </tr>\n",
              "  </tbody>\n",
              "</table>\n",
              "</div>"
            ],
            "text/plain": [
              "  Order ID                     Product Quantity Ordered Price Each  \\\n",
              "0   176558        USB-C Charging Cable                2      11.95   \n",
              "1      NaN                         NaN              NaN        NaN   \n",
              "2   176559  Bose SoundSport Headphones                1      99.99   \n",
              "3   176560                Google Phone                1        600   \n",
              "4   176560            Wired Headphones                1      11.99   \n",
              "\n",
              "       Order Date                      Purchase Address  \n",
              "0  04/19/19 08:46          917 1st St, Dallas, TX 75001  \n",
              "1             NaN                                   NaN  \n",
              "2  04/07/19 22:30     682 Chestnut St, Boston, MA 02215  \n",
              "3  04/12/19 14:38  669 Spruce St, Los Angeles, CA 90001  \n",
              "4  04/12/19 14:38  669 Spruce St, Los Angeles, CA 90001  "
            ]
          },
          "execution_count": 5,
          "metadata": {},
          "output_type": "execute_result"
        }
      ],
      "source": [
        "merged_data.head()"
      ]
    },
    {
      "cell_type": "markdown",
      "id": "2388a190",
      "metadata": {
        "id": "2388a190"
      },
      "source": [
        "# Convert it into dataset"
      ]
    },
    {
      "cell_type": "code",
      "execution_count": null,
      "id": "e4cdfd58",
      "metadata": {
        "id": "e4cdfd58"
      },
      "outputs": [],
      "source": [
        "merged_data.to_csv('C:\\\\Users\\\\nitin\\\\OneDrive\\\\Desktop\\\\Sales_Data\\\\merged_data.csv',index=False)"
      ]
    },
    {
      "cell_type": "code",
      "execution_count": null,
      "id": "1816e578",
      "metadata": {
        "id": "1816e578",
        "outputId": "7b25087e-872d-4064-da90-306524112c81"
      },
      "outputs": [
        {
          "data": {
            "text/html": [
              "<div>\n",
              "<style scoped>\n",
              "    .dataframe tbody tr th:only-of-type {\n",
              "        vertical-align: middle;\n",
              "    }\n",
              "\n",
              "    .dataframe tbody tr th {\n",
              "        vertical-align: top;\n",
              "    }\n",
              "\n",
              "    .dataframe thead th {\n",
              "        text-align: right;\n",
              "    }\n",
              "</style>\n",
              "<table border=\"1\" class=\"dataframe\">\n",
              "  <thead>\n",
              "    <tr style=\"text-align: right;\">\n",
              "      <th></th>\n",
              "      <th>Order ID</th>\n",
              "      <th>Product</th>\n",
              "      <th>Quantity Ordered</th>\n",
              "      <th>Price Each</th>\n",
              "      <th>Order Date</th>\n",
              "      <th>Purchase Address</th>\n",
              "    </tr>\n",
              "  </thead>\n",
              "  <tbody>\n",
              "    <tr>\n",
              "      <th>0</th>\n",
              "      <td>176558</td>\n",
              "      <td>USB-C Charging Cable</td>\n",
              "      <td>2</td>\n",
              "      <td>11.95</td>\n",
              "      <td>04/19/19 08:46</td>\n",
              "      <td>917 1st St, Dallas, TX 75001</td>\n",
              "    </tr>\n",
              "    <tr>\n",
              "      <th>1</th>\n",
              "      <td>NaN</td>\n",
              "      <td>NaN</td>\n",
              "      <td>NaN</td>\n",
              "      <td>NaN</td>\n",
              "      <td>NaN</td>\n",
              "      <td>NaN</td>\n",
              "    </tr>\n",
              "    <tr>\n",
              "      <th>2</th>\n",
              "      <td>176559</td>\n",
              "      <td>Bose SoundSport Headphones</td>\n",
              "      <td>1</td>\n",
              "      <td>99.99</td>\n",
              "      <td>04/07/19 22:30</td>\n",
              "      <td>682 Chestnut St, Boston, MA 02215</td>\n",
              "    </tr>\n",
              "    <tr>\n",
              "      <th>3</th>\n",
              "      <td>176560</td>\n",
              "      <td>Google Phone</td>\n",
              "      <td>1</td>\n",
              "      <td>600</td>\n",
              "      <td>04/12/19 14:38</td>\n",
              "      <td>669 Spruce St, Los Angeles, CA 90001</td>\n",
              "    </tr>\n",
              "    <tr>\n",
              "      <th>4</th>\n",
              "      <td>176560</td>\n",
              "      <td>Wired Headphones</td>\n",
              "      <td>1</td>\n",
              "      <td>11.99</td>\n",
              "      <td>04/12/19 14:38</td>\n",
              "      <td>669 Spruce St, Los Angeles, CA 90001</td>\n",
              "    </tr>\n",
              "    <tr>\n",
              "      <th>...</th>\n",
              "      <td>...</td>\n",
              "      <td>...</td>\n",
              "      <td>...</td>\n",
              "      <td>...</td>\n",
              "      <td>...</td>\n",
              "      <td>...</td>\n",
              "    </tr>\n",
              "    <tr>\n",
              "      <th>186845</th>\n",
              "      <td>259353</td>\n",
              "      <td>AAA Batteries (4-pack)</td>\n",
              "      <td>3</td>\n",
              "      <td>2.99</td>\n",
              "      <td>09/17/19 20:56</td>\n",
              "      <td>840 Highland St, Los Angeles, CA 90001</td>\n",
              "    </tr>\n",
              "    <tr>\n",
              "      <th>186846</th>\n",
              "      <td>259354</td>\n",
              "      <td>iPhone</td>\n",
              "      <td>1</td>\n",
              "      <td>700</td>\n",
              "      <td>09/01/19 16:00</td>\n",
              "      <td>216 Dogwood St, San Francisco, CA 94016</td>\n",
              "    </tr>\n",
              "    <tr>\n",
              "      <th>186847</th>\n",
              "      <td>259355</td>\n",
              "      <td>iPhone</td>\n",
              "      <td>1</td>\n",
              "      <td>700</td>\n",
              "      <td>09/23/19 07:39</td>\n",
              "      <td>220 12th St, San Francisco, CA 94016</td>\n",
              "    </tr>\n",
              "    <tr>\n",
              "      <th>186848</th>\n",
              "      <td>259356</td>\n",
              "      <td>34in Ultrawide Monitor</td>\n",
              "      <td>1</td>\n",
              "      <td>379.99</td>\n",
              "      <td>09/19/19 17:30</td>\n",
              "      <td>511 Forest St, San Francisco, CA 94016</td>\n",
              "    </tr>\n",
              "    <tr>\n",
              "      <th>186849</th>\n",
              "      <td>259357</td>\n",
              "      <td>USB-C Charging Cable</td>\n",
              "      <td>1</td>\n",
              "      <td>11.95</td>\n",
              "      <td>09/30/19 00:18</td>\n",
              "      <td>250 Meadow St, San Francisco, CA 94016</td>\n",
              "    </tr>\n",
              "  </tbody>\n",
              "</table>\n",
              "<p>186850 rows × 6 columns</p>\n",
              "</div>"
            ],
            "text/plain": [
              "       Order ID                     Product Quantity Ordered Price Each  \\\n",
              "0        176558        USB-C Charging Cable                2      11.95   \n",
              "1           NaN                         NaN              NaN        NaN   \n",
              "2        176559  Bose SoundSport Headphones                1      99.99   \n",
              "3        176560                Google Phone                1        600   \n",
              "4        176560            Wired Headphones                1      11.99   \n",
              "...         ...                         ...              ...        ...   \n",
              "186845   259353      AAA Batteries (4-pack)                3       2.99   \n",
              "186846   259354                      iPhone                1        700   \n",
              "186847   259355                      iPhone                1        700   \n",
              "186848   259356      34in Ultrawide Monitor                1     379.99   \n",
              "186849   259357        USB-C Charging Cable                1      11.95   \n",
              "\n",
              "            Order Date                         Purchase Address  \n",
              "0       04/19/19 08:46             917 1st St, Dallas, TX 75001  \n",
              "1                  NaN                                      NaN  \n",
              "2       04/07/19 22:30        682 Chestnut St, Boston, MA 02215  \n",
              "3       04/12/19 14:38     669 Spruce St, Los Angeles, CA 90001  \n",
              "4       04/12/19 14:38     669 Spruce St, Los Angeles, CA 90001  \n",
              "...                ...                                      ...  \n",
              "186845  09/17/19 20:56   840 Highland St, Los Angeles, CA 90001  \n",
              "186846  09/01/19 16:00  216 Dogwood St, San Francisco, CA 94016  \n",
              "186847  09/23/19 07:39     220 12th St, San Francisco, CA 94016  \n",
              "186848  09/19/19 17:30   511 Forest St, San Francisco, CA 94016  \n",
              "186849  09/30/19 00:18   250 Meadow St, San Francisco, CA 94016  \n",
              "\n",
              "[186850 rows x 6 columns]"
            ]
          },
          "execution_count": 7,
          "metadata": {},
          "output_type": "execute_result"
        }
      ],
      "source": [
        "data = pd.read_csv('C:\\\\Users\\\\nitin\\\\OneDrive\\\\Desktop\\\\Sales_Data\\\\merged_data.csv')\n",
        "data"
      ]
    },
    {
      "cell_type": "code",
      "execution_count": null,
      "id": "6c2eb36f",
      "metadata": {
        "id": "6c2eb36f",
        "outputId": "327de022-c1a4-4e6d-aee0-6588b232af9a"
      },
      "outputs": [
        {
          "data": {
            "text/plain": [
              "pandas.core.frame.DataFrame"
            ]
          },
          "execution_count": 8,
          "metadata": {},
          "output_type": "execute_result"
        }
      ],
      "source": [
        "type(data)"
      ]
    },
    {
      "cell_type": "markdown",
      "id": "a34cf8d4",
      "metadata": {
        "id": "a34cf8d4"
      },
      "source": [
        "# Creating a copy of dataset"
      ]
    },
    {
      "cell_type": "code",
      "execution_count": null,
      "id": "a2e726a0",
      "metadata": {
        "id": "a2e726a0",
        "outputId": "15fefcd6-ea7a-4492-b3de-8e20d54bf951"
      },
      "outputs": [
        {
          "data": {
            "text/html": [
              "<div>\n",
              "<style scoped>\n",
              "    .dataframe tbody tr th:only-of-type {\n",
              "        vertical-align: middle;\n",
              "    }\n",
              "\n",
              "    .dataframe tbody tr th {\n",
              "        vertical-align: top;\n",
              "    }\n",
              "\n",
              "    .dataframe thead th {\n",
              "        text-align: right;\n",
              "    }\n",
              "</style>\n",
              "<table border=\"1\" class=\"dataframe\">\n",
              "  <thead>\n",
              "    <tr style=\"text-align: right;\">\n",
              "      <th></th>\n",
              "      <th>Order ID</th>\n",
              "      <th>Product</th>\n",
              "      <th>Quantity Ordered</th>\n",
              "      <th>Price Each</th>\n",
              "      <th>Order Date</th>\n",
              "      <th>Purchase Address</th>\n",
              "    </tr>\n",
              "  </thead>\n",
              "  <tbody>\n",
              "    <tr>\n",
              "      <th>0</th>\n",
              "      <td>176558</td>\n",
              "      <td>USB-C Charging Cable</td>\n",
              "      <td>2</td>\n",
              "      <td>11.95</td>\n",
              "      <td>04/19/19 08:46</td>\n",
              "      <td>917 1st St, Dallas, TX 75001</td>\n",
              "    </tr>\n",
              "    <tr>\n",
              "      <th>1</th>\n",
              "      <td>NaN</td>\n",
              "      <td>NaN</td>\n",
              "      <td>NaN</td>\n",
              "      <td>NaN</td>\n",
              "      <td>NaN</td>\n",
              "      <td>NaN</td>\n",
              "    </tr>\n",
              "    <tr>\n",
              "      <th>2</th>\n",
              "      <td>176559</td>\n",
              "      <td>Bose SoundSport Headphones</td>\n",
              "      <td>1</td>\n",
              "      <td>99.99</td>\n",
              "      <td>04/07/19 22:30</td>\n",
              "      <td>682 Chestnut St, Boston, MA 02215</td>\n",
              "    </tr>\n",
              "    <tr>\n",
              "      <th>3</th>\n",
              "      <td>176560</td>\n",
              "      <td>Google Phone</td>\n",
              "      <td>1</td>\n",
              "      <td>600</td>\n",
              "      <td>04/12/19 14:38</td>\n",
              "      <td>669 Spruce St, Los Angeles, CA 90001</td>\n",
              "    </tr>\n",
              "    <tr>\n",
              "      <th>4</th>\n",
              "      <td>176560</td>\n",
              "      <td>Wired Headphones</td>\n",
              "      <td>1</td>\n",
              "      <td>11.99</td>\n",
              "      <td>04/12/19 14:38</td>\n",
              "      <td>669 Spruce St, Los Angeles, CA 90001</td>\n",
              "    </tr>\n",
              "    <tr>\n",
              "      <th>...</th>\n",
              "      <td>...</td>\n",
              "      <td>...</td>\n",
              "      <td>...</td>\n",
              "      <td>...</td>\n",
              "      <td>...</td>\n",
              "      <td>...</td>\n",
              "    </tr>\n",
              "    <tr>\n",
              "      <th>186845</th>\n",
              "      <td>259353</td>\n",
              "      <td>AAA Batteries (4-pack)</td>\n",
              "      <td>3</td>\n",
              "      <td>2.99</td>\n",
              "      <td>09/17/19 20:56</td>\n",
              "      <td>840 Highland St, Los Angeles, CA 90001</td>\n",
              "    </tr>\n",
              "    <tr>\n",
              "      <th>186846</th>\n",
              "      <td>259354</td>\n",
              "      <td>iPhone</td>\n",
              "      <td>1</td>\n",
              "      <td>700</td>\n",
              "      <td>09/01/19 16:00</td>\n",
              "      <td>216 Dogwood St, San Francisco, CA 94016</td>\n",
              "    </tr>\n",
              "    <tr>\n",
              "      <th>186847</th>\n",
              "      <td>259355</td>\n",
              "      <td>iPhone</td>\n",
              "      <td>1</td>\n",
              "      <td>700</td>\n",
              "      <td>09/23/19 07:39</td>\n",
              "      <td>220 12th St, San Francisco, CA 94016</td>\n",
              "    </tr>\n",
              "    <tr>\n",
              "      <th>186848</th>\n",
              "      <td>259356</td>\n",
              "      <td>34in Ultrawide Monitor</td>\n",
              "      <td>1</td>\n",
              "      <td>379.99</td>\n",
              "      <td>09/19/19 17:30</td>\n",
              "      <td>511 Forest St, San Francisco, CA 94016</td>\n",
              "    </tr>\n",
              "    <tr>\n",
              "      <th>186849</th>\n",
              "      <td>259357</td>\n",
              "      <td>USB-C Charging Cable</td>\n",
              "      <td>1</td>\n",
              "      <td>11.95</td>\n",
              "      <td>09/30/19 00:18</td>\n",
              "      <td>250 Meadow St, San Francisco, CA 94016</td>\n",
              "    </tr>\n",
              "  </tbody>\n",
              "</table>\n",
              "<p>186850 rows × 6 columns</p>\n",
              "</div>"
            ],
            "text/plain": [
              "       Order ID                     Product Quantity Ordered Price Each  \\\n",
              "0        176558        USB-C Charging Cable                2      11.95   \n",
              "1           NaN                         NaN              NaN        NaN   \n",
              "2        176559  Bose SoundSport Headphones                1      99.99   \n",
              "3        176560                Google Phone                1        600   \n",
              "4        176560            Wired Headphones                1      11.99   \n",
              "...         ...                         ...              ...        ...   \n",
              "186845   259353      AAA Batteries (4-pack)                3       2.99   \n",
              "186846   259354                      iPhone                1        700   \n",
              "186847   259355                      iPhone                1        700   \n",
              "186848   259356      34in Ultrawide Monitor                1     379.99   \n",
              "186849   259357        USB-C Charging Cable                1      11.95   \n",
              "\n",
              "            Order Date                         Purchase Address  \n",
              "0       04/19/19 08:46             917 1st St, Dallas, TX 75001  \n",
              "1                  NaN                                      NaN  \n",
              "2       04/07/19 22:30        682 Chestnut St, Boston, MA 02215  \n",
              "3       04/12/19 14:38     669 Spruce St, Los Angeles, CA 90001  \n",
              "4       04/12/19 14:38     669 Spruce St, Los Angeles, CA 90001  \n",
              "...                ...                                      ...  \n",
              "186845  09/17/19 20:56   840 Highland St, Los Angeles, CA 90001  \n",
              "186846  09/01/19 16:00  216 Dogwood St, San Francisco, CA 94016  \n",
              "186847  09/23/19 07:39     220 12th St, San Francisco, CA 94016  \n",
              "186848  09/19/19 17:30   511 Forest St, San Francisco, CA 94016  \n",
              "186849  09/30/19 00:18   250 Meadow St, San Francisco, CA 94016  \n",
              "\n",
              "[186850 rows x 6 columns]"
            ]
          },
          "execution_count": 9,
          "metadata": {},
          "output_type": "execute_result"
        }
      ],
      "source": [
        "df = data.copy()\n",
        "df"
      ]
    },
    {
      "cell_type": "code",
      "execution_count": null,
      "id": "f25dc09c",
      "metadata": {
        "id": "f25dc09c",
        "outputId": "8e2c3fe2-a560-4e3b-eeb8-12900e6efe12"
      },
      "outputs": [
        {
          "data": {
            "text/plain": [
              "pandas.core.frame.DataFrame"
            ]
          },
          "execution_count": 10,
          "metadata": {},
          "output_type": "execute_result"
        }
      ],
      "source": [
        "type(df)"
      ]
    },
    {
      "cell_type": "markdown",
      "id": "ce1989bb",
      "metadata": {
        "id": "ce1989bb"
      },
      "source": [
        "## Data Cleaning"
      ]
    },
    {
      "cell_type": "code",
      "execution_count": null,
      "id": "b30e2b21",
      "metadata": {
        "id": "b30e2b21",
        "outputId": "8b613a64-ecd4-4b87-84ee-e5060fe8dc6e"
      },
      "outputs": [
        {
          "name": "stdout",
          "output_type": "stream",
          "text": [
            "<class 'pandas.core.frame.DataFrame'>\n",
            "RangeIndex: 186850 entries, 0 to 186849\n",
            "Data columns (total 6 columns):\n",
            " #   Column            Non-Null Count   Dtype \n",
            "---  ------            --------------   ----- \n",
            " 0   Order ID          186305 non-null  object\n",
            " 1   Product           186305 non-null  object\n",
            " 2   Quantity Ordered  186305 non-null  object\n",
            " 3   Price Each        186305 non-null  object\n",
            " 4   Order Date        186305 non-null  object\n",
            " 5   Purchase Address  186305 non-null  object\n",
            "dtypes: object(6)\n",
            "memory usage: 8.6+ MB\n"
          ]
        }
      ],
      "source": [
        "df.info()"
      ]
    },
    {
      "cell_type": "code",
      "execution_count": null,
      "id": "cafa293a",
      "metadata": {
        "id": "cafa293a",
        "outputId": "7e250c68-ff75-428a-cbfd-71eb04a0e5e5"
      },
      "outputs": [
        {
          "data": {
            "text/plain": [
              "Index(['Order ID', 'Product', 'Quantity Ordered', 'Price Each', 'Order Date',\n",
              "       'Purchase Address'],\n",
              "      dtype='object')"
            ]
          },
          "execution_count": 12,
          "metadata": {},
          "output_type": "execute_result"
        }
      ],
      "source": [
        "df.columns"
      ]
    },
    {
      "cell_type": "code",
      "execution_count": null,
      "id": "7d67a9d7",
      "metadata": {
        "id": "7d67a9d7",
        "outputId": "8324091d-642d-4180-bb40-b2124f02d713"
      },
      "outputs": [
        {
          "data": {
            "text/plain": [
              "Order ID            545\n",
              "Product             545\n",
              "Quantity Ordered    545\n",
              "Price Each          545\n",
              "Order Date          545\n",
              "Purchase Address    545\n",
              "dtype: int64"
            ]
          },
          "execution_count": 13,
          "metadata": {},
          "output_type": "execute_result"
        }
      ],
      "source": [
        "df.isnull().sum()"
      ]
    },
    {
      "cell_type": "code",
      "execution_count": null,
      "id": "c8b9f108",
      "metadata": {
        "id": "c8b9f108"
      },
      "outputs": [],
      "source": [
        "df.dropna(how='all', inplace=True)"
      ]
    },
    {
      "cell_type": "code",
      "execution_count": null,
      "id": "89dfa7ad",
      "metadata": {
        "id": "89dfa7ad",
        "outputId": "ef816a11-9fb7-4867-d18d-218f7b345523"
      },
      "outputs": [
        {
          "data": {
            "text/html": [
              "<div>\n",
              "<style scoped>\n",
              "    .dataframe tbody tr th:only-of-type {\n",
              "        vertical-align: middle;\n",
              "    }\n",
              "\n",
              "    .dataframe tbody tr th {\n",
              "        vertical-align: top;\n",
              "    }\n",
              "\n",
              "    .dataframe thead th {\n",
              "        text-align: right;\n",
              "    }\n",
              "</style>\n",
              "<table border=\"1\" class=\"dataframe\">\n",
              "  <thead>\n",
              "    <tr style=\"text-align: right;\">\n",
              "      <th></th>\n",
              "      <th>Order ID</th>\n",
              "      <th>Product</th>\n",
              "      <th>Quantity Ordered</th>\n",
              "      <th>Price Each</th>\n",
              "      <th>Order Date</th>\n",
              "      <th>Purchase Address</th>\n",
              "    </tr>\n",
              "  </thead>\n",
              "  <tbody>\n",
              "    <tr>\n",
              "      <th>0</th>\n",
              "      <td>176558</td>\n",
              "      <td>USB-C Charging Cable</td>\n",
              "      <td>2</td>\n",
              "      <td>11.95</td>\n",
              "      <td>04/19/19 08:46</td>\n",
              "      <td>917 1st St, Dallas, TX 75001</td>\n",
              "    </tr>\n",
              "    <tr>\n",
              "      <th>2</th>\n",
              "      <td>176559</td>\n",
              "      <td>Bose SoundSport Headphones</td>\n",
              "      <td>1</td>\n",
              "      <td>99.99</td>\n",
              "      <td>04/07/19 22:30</td>\n",
              "      <td>682 Chestnut St, Boston, MA 02215</td>\n",
              "    </tr>\n",
              "    <tr>\n",
              "      <th>3</th>\n",
              "      <td>176560</td>\n",
              "      <td>Google Phone</td>\n",
              "      <td>1</td>\n",
              "      <td>600</td>\n",
              "      <td>04/12/19 14:38</td>\n",
              "      <td>669 Spruce St, Los Angeles, CA 90001</td>\n",
              "    </tr>\n",
              "    <tr>\n",
              "      <th>4</th>\n",
              "      <td>176560</td>\n",
              "      <td>Wired Headphones</td>\n",
              "      <td>1</td>\n",
              "      <td>11.99</td>\n",
              "      <td>04/12/19 14:38</td>\n",
              "      <td>669 Spruce St, Los Angeles, CA 90001</td>\n",
              "    </tr>\n",
              "    <tr>\n",
              "      <th>5</th>\n",
              "      <td>176561</td>\n",
              "      <td>Wired Headphones</td>\n",
              "      <td>1</td>\n",
              "      <td>11.99</td>\n",
              "      <td>04/30/19 09:27</td>\n",
              "      <td>333 8th St, Los Angeles, CA 90001</td>\n",
              "    </tr>\n",
              "    <tr>\n",
              "      <th>...</th>\n",
              "      <td>...</td>\n",
              "      <td>...</td>\n",
              "      <td>...</td>\n",
              "      <td>...</td>\n",
              "      <td>...</td>\n",
              "      <td>...</td>\n",
              "    </tr>\n",
              "    <tr>\n",
              "      <th>186845</th>\n",
              "      <td>259353</td>\n",
              "      <td>AAA Batteries (4-pack)</td>\n",
              "      <td>3</td>\n",
              "      <td>2.99</td>\n",
              "      <td>09/17/19 20:56</td>\n",
              "      <td>840 Highland St, Los Angeles, CA 90001</td>\n",
              "    </tr>\n",
              "    <tr>\n",
              "      <th>186846</th>\n",
              "      <td>259354</td>\n",
              "      <td>iPhone</td>\n",
              "      <td>1</td>\n",
              "      <td>700</td>\n",
              "      <td>09/01/19 16:00</td>\n",
              "      <td>216 Dogwood St, San Francisco, CA 94016</td>\n",
              "    </tr>\n",
              "    <tr>\n",
              "      <th>186847</th>\n",
              "      <td>259355</td>\n",
              "      <td>iPhone</td>\n",
              "      <td>1</td>\n",
              "      <td>700</td>\n",
              "      <td>09/23/19 07:39</td>\n",
              "      <td>220 12th St, San Francisco, CA 94016</td>\n",
              "    </tr>\n",
              "    <tr>\n",
              "      <th>186848</th>\n",
              "      <td>259356</td>\n",
              "      <td>34in Ultrawide Monitor</td>\n",
              "      <td>1</td>\n",
              "      <td>379.99</td>\n",
              "      <td>09/19/19 17:30</td>\n",
              "      <td>511 Forest St, San Francisco, CA 94016</td>\n",
              "    </tr>\n",
              "    <tr>\n",
              "      <th>186849</th>\n",
              "      <td>259357</td>\n",
              "      <td>USB-C Charging Cable</td>\n",
              "      <td>1</td>\n",
              "      <td>11.95</td>\n",
              "      <td>09/30/19 00:18</td>\n",
              "      <td>250 Meadow St, San Francisco, CA 94016</td>\n",
              "    </tr>\n",
              "  </tbody>\n",
              "</table>\n",
              "<p>186305 rows × 6 columns</p>\n",
              "</div>"
            ],
            "text/plain": [
              "       Order ID                     Product Quantity Ordered Price Each  \\\n",
              "0        176558        USB-C Charging Cable                2      11.95   \n",
              "2        176559  Bose SoundSport Headphones                1      99.99   \n",
              "3        176560                Google Phone                1        600   \n",
              "4        176560            Wired Headphones                1      11.99   \n",
              "5        176561            Wired Headphones                1      11.99   \n",
              "...         ...                         ...              ...        ...   \n",
              "186845   259353      AAA Batteries (4-pack)                3       2.99   \n",
              "186846   259354                      iPhone                1        700   \n",
              "186847   259355                      iPhone                1        700   \n",
              "186848   259356      34in Ultrawide Monitor                1     379.99   \n",
              "186849   259357        USB-C Charging Cable                1      11.95   \n",
              "\n",
              "            Order Date                         Purchase Address  \n",
              "0       04/19/19 08:46             917 1st St, Dallas, TX 75001  \n",
              "2       04/07/19 22:30        682 Chestnut St, Boston, MA 02215  \n",
              "3       04/12/19 14:38     669 Spruce St, Los Angeles, CA 90001  \n",
              "4       04/12/19 14:38     669 Spruce St, Los Angeles, CA 90001  \n",
              "5       04/30/19 09:27        333 8th St, Los Angeles, CA 90001  \n",
              "...                ...                                      ...  \n",
              "186845  09/17/19 20:56   840 Highland St, Los Angeles, CA 90001  \n",
              "186846  09/01/19 16:00  216 Dogwood St, San Francisco, CA 94016  \n",
              "186847  09/23/19 07:39     220 12th St, San Francisco, CA 94016  \n",
              "186848  09/19/19 17:30   511 Forest St, San Francisco, CA 94016  \n",
              "186849  09/30/19 00:18   250 Meadow St, San Francisco, CA 94016  \n",
              "\n",
              "[186305 rows x 6 columns]"
            ]
          },
          "execution_count": 15,
          "metadata": {},
          "output_type": "execute_result"
        }
      ],
      "source": [
        "df"
      ]
    },
    {
      "cell_type": "code",
      "execution_count": null,
      "id": "f9afce67",
      "metadata": {
        "id": "f9afce67",
        "outputId": "fa35f05d-b540-4cfa-f949-f396f2f649e1"
      },
      "outputs": [
        {
          "data": {
            "text/plain": [
              "False    185687\n",
              "True        618\n",
              "dtype: int64"
            ]
          },
          "execution_count": 16,
          "metadata": {},
          "output_type": "execute_result"
        }
      ],
      "source": [
        "df.duplicated().value_counts()"
      ]
    },
    {
      "cell_type": "code",
      "execution_count": null,
      "id": "f0e1ff00",
      "metadata": {
        "id": "f0e1ff00",
        "outputId": "d08795be-17cb-4b5e-b82b-303f89d42694"
      },
      "outputs": [
        {
          "data": {
            "text/plain": [
              "array([False, False, False, ..., False, False, False])"
            ]
          },
          "execution_count": 17,
          "metadata": {},
          "output_type": "execute_result"
        }
      ],
      "source": [
        "df.duplicated().values"
      ]
    },
    {
      "cell_type": "code",
      "execution_count": null,
      "id": "8de69ce0",
      "metadata": {
        "id": "8de69ce0",
        "outputId": "9080e675-2ec8-4b79-fdc6-528011b5c935"
      },
      "outputs": [
        {
          "data": {
            "text/plain": [
              "array([False, False, False, ..., False, False, False])"
            ]
          },
          "execution_count": 18,
          "metadata": {},
          "output_type": "execute_result"
        }
      ],
      "source": [
        "df.duplicated().values"
      ]
    },
    {
      "cell_type": "code",
      "execution_count": null,
      "id": "e878beda",
      "metadata": {
        "id": "e878beda",
        "outputId": "d209f18b-3577-4cf5-8be1-05f26e4d89eb"
      },
      "outputs": [
        {
          "name": "stdout",
          "output_type": "stream",
          "text": [
            "<class 'pandas.core.frame.DataFrame'>\n",
            "Int64Index: 186305 entries, 0 to 186849\n",
            "Data columns (total 6 columns):\n",
            " #   Column            Non-Null Count   Dtype \n",
            "---  ------            --------------   ----- \n",
            " 0   Order ID          186305 non-null  object\n",
            " 1   Product           186305 non-null  object\n",
            " 2   Quantity Ordered  186305 non-null  object\n",
            " 3   Price Each        186305 non-null  object\n",
            " 4   Order Date        186305 non-null  object\n",
            " 5   Purchase Address  186305 non-null  object\n",
            "dtypes: object(6)\n",
            "memory usage: 9.9+ MB\n"
          ]
        }
      ],
      "source": [
        "df.info()"
      ]
    },
    {
      "cell_type": "markdown",
      "id": "65f92e34",
      "metadata": {
        "id": "65f92e34"
      },
      "source": [
        "# Analysis"
      ]
    },
    {
      "cell_type": "markdown",
      "id": "d8c185d7",
      "metadata": {
        "id": "d8c185d7"
      },
      "source": [
        "------------"
      ]
    },
    {
      "cell_type": "markdown",
      "id": "6d20e157",
      "metadata": {
        "id": "6d20e157"
      },
      "source": [
        "### Best Month for Sale"
      ]
    },
    {
      "cell_type": "code",
      "execution_count": null,
      "id": "638b8254",
      "metadata": {
        "id": "638b8254",
        "outputId": "3530dab8-386b-4c8e-8df9-3385043404df"
      },
      "outputs": [
        {
          "data": {
            "text/plain": [
              "0         04/19/19 08:46\n",
              "2         04/07/19 22:30\n",
              "3         04/12/19 14:38\n",
              "4         04/12/19 14:38\n",
              "5         04/30/19 09:27\n",
              "               ...      \n",
              "186845    09/17/19 20:56\n",
              "186846    09/01/19 16:00\n",
              "186847    09/23/19 07:39\n",
              "186848    09/19/19 17:30\n",
              "186849    09/30/19 00:18\n",
              "Name: Order Date, Length: 186305, dtype: object"
            ]
          },
          "execution_count": 22,
          "metadata": {},
          "output_type": "execute_result"
        }
      ],
      "source": [
        "df['Order Date']"
      ]
    },
    {
      "cell_type": "code",
      "execution_count": null,
      "id": "807f0d78",
      "metadata": {
        "id": "807f0d78",
        "outputId": "e8b60e13-2929-4661-d3eb-3895a91b75f0"
      },
      "outputs": [
        {
          "data": {
            "text/plain": [
              "dtype('O')"
            ]
          },
          "execution_count": 23,
          "metadata": {},
          "output_type": "execute_result"
        }
      ],
      "source": [
        "df['Order Date'].dtype"
      ]
    },
    {
      "cell_type": "code",
      "execution_count": null,
      "id": "1e6221bc",
      "metadata": {
        "id": "1e6221bc",
        "outputId": "98cdde81-4e1a-4edb-c606-1f2a19a71bf1"
      },
      "outputs": [
        {
          "name": "stdout",
          "output_type": "stream",
          "text": [
            "<class 'pandas.core.series.Series'>\n",
            "Int64Index: 186305 entries, 0 to 186849\n",
            "Series name: Order Date\n",
            "Non-Null Count   Dtype \n",
            "--------------   ----- \n",
            "186305 non-null  object\n",
            "dtypes: object(1)\n",
            "memory usage: 2.8+ MB\n"
          ]
        }
      ],
      "source": [
        "df['Order Date'].info()"
      ]
    },
    {
      "cell_type": "code",
      "execution_count": null,
      "id": "ad4513d4",
      "metadata": {
        "id": "ad4513d4",
        "outputId": "56e6c900-5ef0-4101-9d6a-2b3a8cdac622"
      },
      "outputs": [
        {
          "data": {
            "text/plain": [
              "Index(['Order ID', 'Product', 'Quantity Ordered', 'Price Each', 'Order Date',\n",
              "       'Purchase Address'],\n",
              "      dtype='object')"
            ]
          },
          "execution_count": 25,
          "metadata": {},
          "output_type": "execute_result"
        }
      ],
      "source": [
        "df.columns"
      ]
    },
    {
      "cell_type": "code",
      "execution_count": null,
      "id": "2a9b05cf",
      "metadata": {
        "id": "2a9b05cf",
        "outputId": "5894051b-e312-4bf3-b0a4-987e3489ded4"
      },
      "outputs": [
        {
          "data": {
            "text/plain": [
              "array(['04/19/19 08:46', '04/07/19 22:30', '04/12/19 14:38', ...,\n",
              "       '09/23/19 07:39', '09/19/19 17:30', '09/30/19 00:18'], dtype=object)"
            ]
          },
          "execution_count": 26,
          "metadata": {},
          "output_type": "execute_result"
        }
      ],
      "source": [
        "df['Order Date'].values"
      ]
    },
    {
      "cell_type": "code",
      "execution_count": null,
      "id": "0cc68dc9",
      "metadata": {
        "id": "0cc68dc9"
      },
      "outputs": [],
      "source": [
        "def month_separator(x):\n",
        "    return x.split('/')[0]"
      ]
    },
    {
      "cell_type": "code",
      "execution_count": null,
      "id": "c26ca4a1",
      "metadata": {
        "id": "c26ca4a1"
      },
      "outputs": [],
      "source": [
        "df['Month'] = df['Order Date'].apply(month_separator)"
      ]
    },
    {
      "cell_type": "code",
      "execution_count": null,
      "id": "39a7773f",
      "metadata": {
        "id": "39a7773f",
        "outputId": "0873d4d9-b0ad-4d03-8057-cc33d1608597"
      },
      "outputs": [
        {
          "data": {
            "text/plain": [
              "Order ID            object\n",
              "Product             object\n",
              "Quantity Ordered    object\n",
              "Price Each          object\n",
              "Order Date          object\n",
              "Purchase Address    object\n",
              "Month               object\n",
              "dtype: object"
            ]
          },
          "execution_count": 29,
          "metadata": {},
          "output_type": "execute_result"
        }
      ],
      "source": [
        "df.dtypes"
      ]
    },
    {
      "cell_type": "code",
      "execution_count": null,
      "id": "d2ed6e07",
      "metadata": {
        "id": "d2ed6e07",
        "outputId": "96876388-b58c-4375-f4ef-258581544e23"
      },
      "outputs": [
        {
          "data": {
            "text/plain": [
              "array(['04', '05', 'Order Date', '08', '09', '12', '01', '02', '03', '07',\n",
              "       '06', '11', '10'], dtype=object)"
            ]
          },
          "execution_count": 30,
          "metadata": {},
          "output_type": "execute_result"
        }
      ],
      "source": [
        "df['Month'].unique()"
      ]
    },
    {
      "cell_type": "code",
      "execution_count": null,
      "id": "4fedbcae",
      "metadata": {
        "id": "4fedbcae"
      },
      "outputs": [],
      "source": [
        "filter = df['Month'] == 'Order Date'"
      ]
    },
    {
      "cell_type": "code",
      "execution_count": null,
      "id": "f94a6b0c",
      "metadata": {
        "id": "f94a6b0c",
        "outputId": "35a215ef-0436-43bb-d706-2d32a1afc46b"
      },
      "outputs": [
        {
          "data": {
            "text/html": [
              "<div>\n",
              "<style scoped>\n",
              "    .dataframe tbody tr th:only-of-type {\n",
              "        vertical-align: middle;\n",
              "    }\n",
              "\n",
              "    .dataframe tbody tr th {\n",
              "        vertical-align: top;\n",
              "    }\n",
              "\n",
              "    .dataframe thead th {\n",
              "        text-align: right;\n",
              "    }\n",
              "</style>\n",
              "<table border=\"1\" class=\"dataframe\">\n",
              "  <thead>\n",
              "    <tr style=\"text-align: right;\">\n",
              "      <th></th>\n",
              "      <th>Order ID</th>\n",
              "      <th>Product</th>\n",
              "      <th>Quantity Ordered</th>\n",
              "      <th>Price Each</th>\n",
              "      <th>Order Date</th>\n",
              "      <th>Purchase Address</th>\n",
              "      <th>Month</th>\n",
              "    </tr>\n",
              "  </thead>\n",
              "  <tbody>\n",
              "    <tr>\n",
              "      <th>0</th>\n",
              "      <td>176558</td>\n",
              "      <td>USB-C Charging Cable</td>\n",
              "      <td>2</td>\n",
              "      <td>11.95</td>\n",
              "      <td>04/19/19 08:46</td>\n",
              "      <td>917 1st St, Dallas, TX 75001</td>\n",
              "      <td>04</td>\n",
              "    </tr>\n",
              "    <tr>\n",
              "      <th>2</th>\n",
              "      <td>176559</td>\n",
              "      <td>Bose SoundSport Headphones</td>\n",
              "      <td>1</td>\n",
              "      <td>99.99</td>\n",
              "      <td>04/07/19 22:30</td>\n",
              "      <td>682 Chestnut St, Boston, MA 02215</td>\n",
              "      <td>04</td>\n",
              "    </tr>\n",
              "    <tr>\n",
              "      <th>3</th>\n",
              "      <td>176560</td>\n",
              "      <td>Google Phone</td>\n",
              "      <td>1</td>\n",
              "      <td>600</td>\n",
              "      <td>04/12/19 14:38</td>\n",
              "      <td>669 Spruce St, Los Angeles, CA 90001</td>\n",
              "      <td>04</td>\n",
              "    </tr>\n",
              "    <tr>\n",
              "      <th>4</th>\n",
              "      <td>176560</td>\n",
              "      <td>Wired Headphones</td>\n",
              "      <td>1</td>\n",
              "      <td>11.99</td>\n",
              "      <td>04/12/19 14:38</td>\n",
              "      <td>669 Spruce St, Los Angeles, CA 90001</td>\n",
              "      <td>04</td>\n",
              "    </tr>\n",
              "    <tr>\n",
              "      <th>5</th>\n",
              "      <td>176561</td>\n",
              "      <td>Wired Headphones</td>\n",
              "      <td>1</td>\n",
              "      <td>11.99</td>\n",
              "      <td>04/30/19 09:27</td>\n",
              "      <td>333 8th St, Los Angeles, CA 90001</td>\n",
              "      <td>04</td>\n",
              "    </tr>\n",
              "    <tr>\n",
              "      <th>...</th>\n",
              "      <td>...</td>\n",
              "      <td>...</td>\n",
              "      <td>...</td>\n",
              "      <td>...</td>\n",
              "      <td>...</td>\n",
              "      <td>...</td>\n",
              "      <td>...</td>\n",
              "    </tr>\n",
              "    <tr>\n",
              "      <th>186845</th>\n",
              "      <td>259353</td>\n",
              "      <td>AAA Batteries (4-pack)</td>\n",
              "      <td>3</td>\n",
              "      <td>2.99</td>\n",
              "      <td>09/17/19 20:56</td>\n",
              "      <td>840 Highland St, Los Angeles, CA 90001</td>\n",
              "      <td>09</td>\n",
              "    </tr>\n",
              "    <tr>\n",
              "      <th>186846</th>\n",
              "      <td>259354</td>\n",
              "      <td>iPhone</td>\n",
              "      <td>1</td>\n",
              "      <td>700</td>\n",
              "      <td>09/01/19 16:00</td>\n",
              "      <td>216 Dogwood St, San Francisco, CA 94016</td>\n",
              "      <td>09</td>\n",
              "    </tr>\n",
              "    <tr>\n",
              "      <th>186847</th>\n",
              "      <td>259355</td>\n",
              "      <td>iPhone</td>\n",
              "      <td>1</td>\n",
              "      <td>700</td>\n",
              "      <td>09/23/19 07:39</td>\n",
              "      <td>220 12th St, San Francisco, CA 94016</td>\n",
              "      <td>09</td>\n",
              "    </tr>\n",
              "    <tr>\n",
              "      <th>186848</th>\n",
              "      <td>259356</td>\n",
              "      <td>34in Ultrawide Monitor</td>\n",
              "      <td>1</td>\n",
              "      <td>379.99</td>\n",
              "      <td>09/19/19 17:30</td>\n",
              "      <td>511 Forest St, San Francisco, CA 94016</td>\n",
              "      <td>09</td>\n",
              "    </tr>\n",
              "    <tr>\n",
              "      <th>186849</th>\n",
              "      <td>259357</td>\n",
              "      <td>USB-C Charging Cable</td>\n",
              "      <td>1</td>\n",
              "      <td>11.95</td>\n",
              "      <td>09/30/19 00:18</td>\n",
              "      <td>250 Meadow St, San Francisco, CA 94016</td>\n",
              "      <td>09</td>\n",
              "    </tr>\n",
              "  </tbody>\n",
              "</table>\n",
              "<p>185950 rows × 7 columns</p>\n",
              "</div>"
            ],
            "text/plain": [
              "       Order ID                     Product Quantity Ordered Price Each  \\\n",
              "0        176558        USB-C Charging Cable                2      11.95   \n",
              "2        176559  Bose SoundSport Headphones                1      99.99   \n",
              "3        176560                Google Phone                1        600   \n",
              "4        176560            Wired Headphones                1      11.99   \n",
              "5        176561            Wired Headphones                1      11.99   \n",
              "...         ...                         ...              ...        ...   \n",
              "186845   259353      AAA Batteries (4-pack)                3       2.99   \n",
              "186846   259354                      iPhone                1        700   \n",
              "186847   259355                      iPhone                1        700   \n",
              "186848   259356      34in Ultrawide Monitor                1     379.99   \n",
              "186849   259357        USB-C Charging Cable                1      11.95   \n",
              "\n",
              "            Order Date                         Purchase Address Month  \n",
              "0       04/19/19 08:46             917 1st St, Dallas, TX 75001    04  \n",
              "2       04/07/19 22:30        682 Chestnut St, Boston, MA 02215    04  \n",
              "3       04/12/19 14:38     669 Spruce St, Los Angeles, CA 90001    04  \n",
              "4       04/12/19 14:38     669 Spruce St, Los Angeles, CA 90001    04  \n",
              "5       04/30/19 09:27        333 8th St, Los Angeles, CA 90001    04  \n",
              "...                ...                                      ...   ...  \n",
              "186845  09/17/19 20:56   840 Highland St, Los Angeles, CA 90001    09  \n",
              "186846  09/01/19 16:00  216 Dogwood St, San Francisco, CA 94016    09  \n",
              "186847  09/23/19 07:39     220 12th St, San Francisco, CA 94016    09  \n",
              "186848  09/19/19 17:30   511 Forest St, San Francisco, CA 94016    09  \n",
              "186849  09/30/19 00:18   250 Meadow St, San Francisco, CA 94016    09  \n",
              "\n",
              "[185950 rows x 7 columns]"
            ]
          },
          "execution_count": 32,
          "metadata": {},
          "output_type": "execute_result"
        }
      ],
      "source": [
        "df = df[~filter]\n",
        "df"
      ]
    },
    {
      "cell_type": "code",
      "execution_count": null,
      "id": "414a4a9f",
      "metadata": {
        "id": "414a4a9f",
        "outputId": "beb4f90d-56b0-42e8-a10a-7ffcee6545b6"
      },
      "outputs": [
        {
          "data": {
            "text/plain": [
              "array(['04', '05', '08', '09', '12', '01', '02', '03', '07', '06', '11',\n",
              "       '10'], dtype=object)"
            ]
          },
          "execution_count": 33,
          "metadata": {},
          "output_type": "execute_result"
        }
      ],
      "source": [
        "df['Month'].unique()"
      ]
    },
    {
      "cell_type": "code",
      "execution_count": null,
      "id": "36bb1fab",
      "metadata": {
        "id": "36bb1fab",
        "outputId": "b64dfba9-9cf9-4acf-e0b6-89ccaabc7c9c"
      },
      "outputs": [
        {
          "data": {
            "text/plain": [
              "(185950, 7)"
            ]
          },
          "execution_count": 34,
          "metadata": {},
          "output_type": "execute_result"
        }
      ],
      "source": [
        "df.shape"
      ]
    },
    {
      "cell_type": "code",
      "execution_count": null,
      "id": "f46bca3d",
      "metadata": {
        "id": "f46bca3d",
        "outputId": "7a8bb627-b8a6-41f3-8252-8aa493ba6466"
      },
      "outputs": [
        {
          "data": {
            "text/html": [
              "<div>\n",
              "<style scoped>\n",
              "    .dataframe tbody tr th:only-of-type {\n",
              "        vertical-align: middle;\n",
              "    }\n",
              "\n",
              "    .dataframe tbody tr th {\n",
              "        vertical-align: top;\n",
              "    }\n",
              "\n",
              "    .dataframe thead th {\n",
              "        text-align: right;\n",
              "    }\n",
              "</style>\n",
              "<table border=\"1\" class=\"dataframe\">\n",
              "  <thead>\n",
              "    <tr style=\"text-align: right;\">\n",
              "      <th></th>\n",
              "      <th>Order ID</th>\n",
              "      <th>Product</th>\n",
              "      <th>Quantity Ordered</th>\n",
              "      <th>Price Each</th>\n",
              "      <th>Order Date</th>\n",
              "      <th>Purchase Address</th>\n",
              "      <th>Month</th>\n",
              "    </tr>\n",
              "  </thead>\n",
              "  <tbody>\n",
              "    <tr>\n",
              "      <th>0</th>\n",
              "      <td>176558</td>\n",
              "      <td>USB-C Charging Cable</td>\n",
              "      <td>2</td>\n",
              "      <td>11.95</td>\n",
              "      <td>04/19/19 08:46</td>\n",
              "      <td>917 1st St, Dallas, TX 75001</td>\n",
              "      <td>04</td>\n",
              "    </tr>\n",
              "    <tr>\n",
              "      <th>2</th>\n",
              "      <td>176559</td>\n",
              "      <td>Bose SoundSport Headphones</td>\n",
              "      <td>1</td>\n",
              "      <td>99.99</td>\n",
              "      <td>04/07/19 22:30</td>\n",
              "      <td>682 Chestnut St, Boston, MA 02215</td>\n",
              "      <td>04</td>\n",
              "    </tr>\n",
              "    <tr>\n",
              "      <th>3</th>\n",
              "      <td>176560</td>\n",
              "      <td>Google Phone</td>\n",
              "      <td>1</td>\n",
              "      <td>600</td>\n",
              "      <td>04/12/19 14:38</td>\n",
              "      <td>669 Spruce St, Los Angeles, CA 90001</td>\n",
              "      <td>04</td>\n",
              "    </tr>\n",
              "    <tr>\n",
              "      <th>4</th>\n",
              "      <td>176560</td>\n",
              "      <td>Wired Headphones</td>\n",
              "      <td>1</td>\n",
              "      <td>11.99</td>\n",
              "      <td>04/12/19 14:38</td>\n",
              "      <td>669 Spruce St, Los Angeles, CA 90001</td>\n",
              "      <td>04</td>\n",
              "    </tr>\n",
              "    <tr>\n",
              "      <th>5</th>\n",
              "      <td>176561</td>\n",
              "      <td>Wired Headphones</td>\n",
              "      <td>1</td>\n",
              "      <td>11.99</td>\n",
              "      <td>04/30/19 09:27</td>\n",
              "      <td>333 8th St, Los Angeles, CA 90001</td>\n",
              "      <td>04</td>\n",
              "    </tr>\n",
              "  </tbody>\n",
              "</table>\n",
              "</div>"
            ],
            "text/plain": [
              "  Order ID                     Product Quantity Ordered Price Each  \\\n",
              "0   176558        USB-C Charging Cable                2      11.95   \n",
              "2   176559  Bose SoundSport Headphones                1      99.99   \n",
              "3   176560                Google Phone                1        600   \n",
              "4   176560            Wired Headphones                1      11.99   \n",
              "5   176561            Wired Headphones                1      11.99   \n",
              "\n",
              "       Order Date                      Purchase Address Month  \n",
              "0  04/19/19 08:46          917 1st St, Dallas, TX 75001    04  \n",
              "2  04/07/19 22:30     682 Chestnut St, Boston, MA 02215    04  \n",
              "3  04/12/19 14:38  669 Spruce St, Los Angeles, CA 90001    04  \n",
              "4  04/12/19 14:38  669 Spruce St, Los Angeles, CA 90001    04  \n",
              "5  04/30/19 09:27     333 8th St, Los Angeles, CA 90001    04  "
            ]
          },
          "execution_count": 35,
          "metadata": {},
          "output_type": "execute_result"
        }
      ],
      "source": [
        "df.head()"
      ]
    },
    {
      "cell_type": "code",
      "execution_count": null,
      "id": "ddd688ee",
      "metadata": {
        "id": "ddd688ee",
        "outputId": "495f0210-1ef0-4a45-e94d-e331edaebaa8"
      },
      "outputs": [
        {
          "data": {
            "text/plain": [
              "Order ID            object\n",
              "Product             object\n",
              "Quantity Ordered    object\n",
              "Price Each          object\n",
              "Order Date          object\n",
              "Purchase Address    object\n",
              "Month               object\n",
              "dtype: object"
            ]
          },
          "execution_count": 36,
          "metadata": {},
          "output_type": "execute_result"
        }
      ],
      "source": [
        "df.dtypes"
      ]
    },
    {
      "cell_type": "code",
      "execution_count": null,
      "id": "9f072eb0",
      "metadata": {
        "id": "9f072eb0",
        "outputId": "e52bdf78-32c7-4f26-e1b6-6a148b5c026e"
      },
      "outputs": [
        {
          "name": "stderr",
          "output_type": "stream",
          "text": [
            "C:\\Users\\nitin\\AppData\\Local\\Temp\\ipykernel_19976\\447282381.py:1: SettingWithCopyWarning: \n",
            "A value is trying to be set on a copy of a slice from a DataFrame.\n",
            "Try using .loc[row_indexer,col_indexer] = value instead\n",
            "\n",
            "See the caveats in the documentation: https://pandas.pydata.org/pandas-docs/stable/user_guide/indexing.html#returning-a-view-versus-a-copy\n",
            "  df['Month'] = df['Month'].astype(int)\n"
          ]
        }
      ],
      "source": [
        "df['Month'] = df['Month'].astype(int)"
      ]
    },
    {
      "cell_type": "code",
      "execution_count": null,
      "id": "c5fe103d",
      "metadata": {
        "id": "c5fe103d",
        "outputId": "3ba054e8-9238-4070-e4b8-de527d187735"
      },
      "outputs": [
        {
          "data": {
            "text/plain": [
              "Order ID            object\n",
              "Product             object\n",
              "Quantity Ordered    object\n",
              "Price Each          object\n",
              "Order Date          object\n",
              "Purchase Address    object\n",
              "Month                int32\n",
              "dtype: object"
            ]
          },
          "execution_count": 38,
          "metadata": {},
          "output_type": "execute_result"
        }
      ],
      "source": [
        "df.dtypes"
      ]
    },
    {
      "cell_type": "code",
      "execution_count": null,
      "id": "3a7b9ff6",
      "metadata": {
        "id": "3a7b9ff6",
        "outputId": "7d871102-dd53-423b-958d-2b6dc3dbbe21"
      },
      "outputs": [
        {
          "name": "stderr",
          "output_type": "stream",
          "text": [
            "C:\\Users\\nitin\\AppData\\Local\\Temp\\ipykernel_19976\\3230856089.py:1: SettingWithCopyWarning: \n",
            "A value is trying to be set on a copy of a slice from a DataFrame.\n",
            "Try using .loc[row_indexer,col_indexer] = value instead\n",
            "\n",
            "See the caveats in the documentation: https://pandas.pydata.org/pandas-docs/stable/user_guide/indexing.html#returning-a-view-versus-a-copy\n",
            "  df['Quantity Ordered'] = df['Quantity Ordered'].astype(int)\n"
          ]
        }
      ],
      "source": [
        "df['Quantity Ordered'] = df['Quantity Ordered'].astype(int)"
      ]
    },
    {
      "cell_type": "code",
      "execution_count": null,
      "id": "dae960dc",
      "metadata": {
        "id": "dae960dc",
        "outputId": "b7fa1a10-5111-42df-ed62-0e2be96976e9"
      },
      "outputs": [
        {
          "name": "stderr",
          "output_type": "stream",
          "text": [
            "C:\\Users\\nitin\\AppData\\Local\\Temp\\ipykernel_19976\\2007003685.py:1: SettingWithCopyWarning: \n",
            "A value is trying to be set on a copy of a slice from a DataFrame.\n",
            "Try using .loc[row_indexer,col_indexer] = value instead\n",
            "\n",
            "See the caveats in the documentation: https://pandas.pydata.org/pandas-docs/stable/user_guide/indexing.html#returning-a-view-versus-a-copy\n",
            "  df['Price Each'] = df['Price Each'].astype(float)\n"
          ]
        }
      ],
      "source": [
        "df['Price Each'] = df['Price Each'].astype(float)"
      ]
    },
    {
      "cell_type": "code",
      "execution_count": null,
      "id": "9d79f0cc",
      "metadata": {
        "id": "9d79f0cc",
        "outputId": "829fe2eb-5926-4a29-95ac-c90c41391427"
      },
      "outputs": [
        {
          "data": {
            "text/plain": [
              "Order ID             object\n",
              "Product              object\n",
              "Quantity Ordered      int32\n",
              "Price Each          float64\n",
              "Order Date           object\n",
              "Purchase Address     object\n",
              "Month                 int32\n",
              "dtype: object"
            ]
          },
          "execution_count": 41,
          "metadata": {},
          "output_type": "execute_result"
        }
      ],
      "source": [
        "df.dtypes"
      ]
    },
    {
      "cell_type": "code",
      "execution_count": null,
      "id": "807b59ef",
      "metadata": {
        "id": "807b59ef",
        "outputId": "d675d444-9b84-45c4-a9bd-d03fa042169b"
      },
      "outputs": [
        {
          "name": "stderr",
          "output_type": "stream",
          "text": [
            "C:\\Users\\nitin\\AppData\\Local\\Temp\\ipykernel_19976\\1983597858.py:1: SettingWithCopyWarning: \n",
            "A value is trying to be set on a copy of a slice from a DataFrame.\n",
            "Try using .loc[row_indexer,col_indexer] = value instead\n",
            "\n",
            "See the caveats in the documentation: https://pandas.pydata.org/pandas-docs/stable/user_guide/indexing.html#returning-a-view-versus-a-copy\n",
            "  df['Sales'] = df['Quantity Ordered'] * df['Price Each']\n"
          ]
        }
      ],
      "source": [
        "df['Sales'] = df['Quantity Ordered'] * df['Price Each']"
      ]
    },
    {
      "cell_type": "code",
      "execution_count": null,
      "id": "70235902",
      "metadata": {
        "id": "70235902",
        "outputId": "fa523364-e558-4e7a-fa40-683c536460e3"
      },
      "outputs": [
        {
          "data": {
            "text/html": [
              "<div>\n",
              "<style scoped>\n",
              "    .dataframe tbody tr th:only-of-type {\n",
              "        vertical-align: middle;\n",
              "    }\n",
              "\n",
              "    .dataframe tbody tr th {\n",
              "        vertical-align: top;\n",
              "    }\n",
              "\n",
              "    .dataframe thead th {\n",
              "        text-align: right;\n",
              "    }\n",
              "</style>\n",
              "<table border=\"1\" class=\"dataframe\">\n",
              "  <thead>\n",
              "    <tr style=\"text-align: right;\">\n",
              "      <th></th>\n",
              "      <th>Order ID</th>\n",
              "      <th>Product</th>\n",
              "      <th>Quantity Ordered</th>\n",
              "      <th>Price Each</th>\n",
              "      <th>Order Date</th>\n",
              "      <th>Purchase Address</th>\n",
              "      <th>Month</th>\n",
              "      <th>Sales</th>\n",
              "    </tr>\n",
              "  </thead>\n",
              "  <tbody>\n",
              "    <tr>\n",
              "      <th>0</th>\n",
              "      <td>176558</td>\n",
              "      <td>USB-C Charging Cable</td>\n",
              "      <td>2</td>\n",
              "      <td>11.95</td>\n",
              "      <td>04/19/19 08:46</td>\n",
              "      <td>917 1st St, Dallas, TX 75001</td>\n",
              "      <td>4</td>\n",
              "      <td>23.90</td>\n",
              "    </tr>\n",
              "    <tr>\n",
              "      <th>2</th>\n",
              "      <td>176559</td>\n",
              "      <td>Bose SoundSport Headphones</td>\n",
              "      <td>1</td>\n",
              "      <td>99.99</td>\n",
              "      <td>04/07/19 22:30</td>\n",
              "      <td>682 Chestnut St, Boston, MA 02215</td>\n",
              "      <td>4</td>\n",
              "      <td>99.99</td>\n",
              "    </tr>\n",
              "    <tr>\n",
              "      <th>3</th>\n",
              "      <td>176560</td>\n",
              "      <td>Google Phone</td>\n",
              "      <td>1</td>\n",
              "      <td>600.00</td>\n",
              "      <td>04/12/19 14:38</td>\n",
              "      <td>669 Spruce St, Los Angeles, CA 90001</td>\n",
              "      <td>4</td>\n",
              "      <td>600.00</td>\n",
              "    </tr>\n",
              "    <tr>\n",
              "      <th>4</th>\n",
              "      <td>176560</td>\n",
              "      <td>Wired Headphones</td>\n",
              "      <td>1</td>\n",
              "      <td>11.99</td>\n",
              "      <td>04/12/19 14:38</td>\n",
              "      <td>669 Spruce St, Los Angeles, CA 90001</td>\n",
              "      <td>4</td>\n",
              "      <td>11.99</td>\n",
              "    </tr>\n",
              "    <tr>\n",
              "      <th>5</th>\n",
              "      <td>176561</td>\n",
              "      <td>Wired Headphones</td>\n",
              "      <td>1</td>\n",
              "      <td>11.99</td>\n",
              "      <td>04/30/19 09:27</td>\n",
              "      <td>333 8th St, Los Angeles, CA 90001</td>\n",
              "      <td>4</td>\n",
              "      <td>11.99</td>\n",
              "    </tr>\n",
              "  </tbody>\n",
              "</table>\n",
              "</div>"
            ],
            "text/plain": [
              "  Order ID                     Product  Quantity Ordered  Price Each  \\\n",
              "0   176558        USB-C Charging Cable                 2       11.95   \n",
              "2   176559  Bose SoundSport Headphones                 1       99.99   \n",
              "3   176560                Google Phone                 1      600.00   \n",
              "4   176560            Wired Headphones                 1       11.99   \n",
              "5   176561            Wired Headphones                 1       11.99   \n",
              "\n",
              "       Order Date                      Purchase Address  Month   Sales  \n",
              "0  04/19/19 08:46          917 1st St, Dallas, TX 75001      4   23.90  \n",
              "2  04/07/19 22:30     682 Chestnut St, Boston, MA 02215      4   99.99  \n",
              "3  04/12/19 14:38  669 Spruce St, Los Angeles, CA 90001      4  600.00  \n",
              "4  04/12/19 14:38  669 Spruce St, Los Angeles, CA 90001      4   11.99  \n",
              "5  04/30/19 09:27     333 8th St, Los Angeles, CA 90001      4   11.99  "
            ]
          },
          "execution_count": 43,
          "metadata": {},
          "output_type": "execute_result"
        }
      ],
      "source": [
        "df.head()"
      ]
    },
    {
      "cell_type": "code",
      "execution_count": null,
      "id": "7b83a2c0",
      "metadata": {
        "id": "7b83a2c0",
        "outputId": "a91d8dd9-d3ae-46cc-aedb-237ac0faa759"
      },
      "outputs": [
        {
          "data": {
            "text/plain": [
              "Month\n",
              "1     1822256.73\n",
              "2     2202022.42\n",
              "3     2807100.38\n",
              "4     3390670.24\n",
              "5     3152606.75\n",
              "6     2577802.26\n",
              "7     2647775.76\n",
              "8     2244467.88\n",
              "9     2097560.13\n",
              "10    3736726.88\n",
              "11    3199603.20\n",
              "12    4613443.34\n",
              "Name: Sales, dtype: float64"
            ]
          },
          "execution_count": 44,
          "metadata": {},
          "output_type": "execute_result"
        }
      ],
      "source": [
        "df.groupby('Month')['Sales'].sum()"
      ]
    },
    {
      "cell_type": "code",
      "execution_count": null,
      "id": "762823f6",
      "metadata": {
        "id": "762823f6",
        "outputId": "6fc47526-ac49-4abd-b9ef-8e22263ad13c"
      },
      "outputs": [
        {
          "data": {
            "image/png": "[encoded data removed]",
            "text/plain": [
              "<Figure size 432x288 with 1 Axes>"
            ]
          },
          "metadata": {
            "needs_background": "light"
          },
          "output_type": "display_data"
        }
      ],
      "source": [
        "plt.bar(x=range(1,13),height = df.groupby('Month')['Sales'].sum())\n",
        "plt.xticks(range(1,13))\n",
        "plt.ylabel('Sales in USD ($)')\n",
        "plt.xlabel('Months')\n",
        "plt.show()"
      ]
    },
    {
      "cell_type": "markdown",
      "id": "46511d3d",
      "metadata": {
        "id": "46511d3d"
      },
      "source": [
        "December month sees max sales"
      ]
    },
    {
      "cell_type": "markdown",
      "id": "f1226260",
      "metadata": {
        "id": "f1226260"
      },
      "source": [
        "### Which city has max orders?"
      ]
    },
    {
      "cell_type": "code",
      "execution_count": null,
      "id": "acd9984d",
      "metadata": {
        "id": "acd9984d",
        "outputId": "7e2ef816-df0f-4631-8fb9-0ecce057d700"
      },
      "outputs": [
        {
          "data": {
            "text/plain": [
              "0            917 1st St, Dallas, TX 75001\n",
              "2       682 Chestnut St, Boston, MA 02215\n",
              "3    669 Spruce St, Los Angeles, CA 90001\n",
              "4    669 Spruce St, Los Angeles, CA 90001\n",
              "5       333 8th St, Los Angeles, CA 90001\n",
              "Name: Purchase Address, dtype: object"
            ]
          },
          "execution_count": 47,
          "metadata": {},
          "output_type": "execute_result"
        }
      ],
      "source": [
        "df['Purchase Address'].head()"
      ]
    },
    {
      "cell_type": "code",
      "execution_count": null,
      "id": "66d57668",
      "metadata": {
        "id": "66d57668",
        "outputId": "733d4b5d-e12c-4839-da7d-8914c0481213"
      },
      "outputs": [
        {
          "data": {
            "text/plain": [
              "'917 1st St, Dallas, TX 75001'"
            ]
          },
          "execution_count": 48,
          "metadata": {},
          "output_type": "execute_result"
        }
      ],
      "source": [
        "df['Purchase Address'][0]"
      ]
    },
    {
      "cell_type": "code",
      "execution_count": null,
      "id": "814ed0b1",
      "metadata": {
        "id": "814ed0b1",
        "outputId": "92281f7f-37aa-4bbc-9aea-33634537ce66"
      },
      "outputs": [
        {
          "data": {
            "text/plain": [
              "'Dallas'"
            ]
          },
          "execution_count": 49,
          "metadata": {},
          "output_type": "execute_result"
        }
      ],
      "source": [
        "df['Purchase Address'][0].split(sep=\", \")[1]"
      ]
    },
    {
      "cell_type": "code",
      "execution_count": null,
      "id": "00576cb2",
      "metadata": {
        "id": "00576cb2"
      },
      "outputs": [],
      "source": [
        "def city(x):\n",
        "    return x.split(', ')[1]"
      ]
    },
    {
      "cell_type": "code",
      "execution_count": null,
      "id": "0f00621e",
      "metadata": {
        "id": "0f00621e",
        "outputId": "ddecf2a9-2940-40c8-c01b-6a46e1a7beb1"
      },
      "outputs": [
        {
          "name": "stderr",
          "output_type": "stream",
          "text": [
            "C:\\Users\\nitin\\AppData\\Local\\Temp\\ipykernel_19976\\3838615191.py:1: SettingWithCopyWarning: \n",
            "A value is trying to be set on a copy of a slice from a DataFrame.\n",
            "Try using .loc[row_indexer,col_indexer] = value instead\n",
            "\n",
            "See the caveats in the documentation: https://pandas.pydata.org/pandas-docs/stable/user_guide/indexing.html#returning-a-view-versus-a-copy\n",
            "  df['city']=df['Purchase Address'].apply(city)\n"
          ]
        }
      ],
      "source": [
        "df['city']=df['Purchase Address'].apply(city)"
      ]
    },
    {
      "cell_type": "code",
      "execution_count": null,
      "id": "9399f935",
      "metadata": {
        "id": "9399f935",
        "outputId": "cc78709d-9aec-4f37-a1f2-b669c17d2c15"
      },
      "outputs": [
        {
          "data": {
            "text/html": [
              "<div>\n",
              "<style scoped>\n",
              "    .dataframe tbody tr th:only-of-type {\n",
              "        vertical-align: middle;\n",
              "    }\n",
              "\n",
              "    .dataframe tbody tr th {\n",
              "        vertical-align: top;\n",
              "    }\n",
              "\n",
              "    .dataframe thead th {\n",
              "        text-align: right;\n",
              "    }\n",
              "</style>\n",
              "<table border=\"1\" class=\"dataframe\">\n",
              "  <thead>\n",
              "    <tr style=\"text-align: right;\">\n",
              "      <th></th>\n",
              "      <th>Order ID</th>\n",
              "      <th>Product</th>\n",
              "      <th>Quantity Ordered</th>\n",
              "      <th>Price Each</th>\n",
              "      <th>Order Date</th>\n",
              "      <th>Purchase Address</th>\n",
              "      <th>Month</th>\n",
              "      <th>Sales</th>\n",
              "      <th>city</th>\n",
              "    </tr>\n",
              "  </thead>\n",
              "  <tbody>\n",
              "    <tr>\n",
              "      <th>0</th>\n",
              "      <td>176558</td>\n",
              "      <td>USB-C Charging Cable</td>\n",
              "      <td>2</td>\n",
              "      <td>11.95</td>\n",
              "      <td>04/19/19 08:46</td>\n",
              "      <td>917 1st St, Dallas, TX 75001</td>\n",
              "      <td>4</td>\n",
              "      <td>23.90</td>\n",
              "      <td>Dallas</td>\n",
              "    </tr>\n",
              "    <tr>\n",
              "      <th>2</th>\n",
              "      <td>176559</td>\n",
              "      <td>Bose SoundSport Headphones</td>\n",
              "      <td>1</td>\n",
              "      <td>99.99</td>\n",
              "      <td>04/07/19 22:30</td>\n",
              "      <td>682 Chestnut St, Boston, MA 02215</td>\n",
              "      <td>4</td>\n",
              "      <td>99.99</td>\n",
              "      <td>Boston</td>\n",
              "    </tr>\n",
              "    <tr>\n",
              "      <th>3</th>\n",
              "      <td>176560</td>\n",
              "      <td>Google Phone</td>\n",
              "      <td>1</td>\n",
              "      <td>600.00</td>\n",
              "      <td>04/12/19 14:38</td>\n",
              "      <td>669 Spruce St, Los Angeles, CA 90001</td>\n",
              "      <td>4</td>\n",
              "      <td>600.00</td>\n",
              "      <td>Los Angeles</td>\n",
              "    </tr>\n",
              "    <tr>\n",
              "      <th>4</th>\n",
              "      <td>176560</td>\n",
              "      <td>Wired Headphones</td>\n",
              "      <td>1</td>\n",
              "      <td>11.99</td>\n",
              "      <td>04/12/19 14:38</td>\n",
              "      <td>669 Spruce St, Los Angeles, CA 90001</td>\n",
              "      <td>4</td>\n",
              "      <td>11.99</td>\n",
              "      <td>Los Angeles</td>\n",
              "    </tr>\n",
              "    <tr>\n",
              "      <th>5</th>\n",
              "      <td>176561</td>\n",
              "      <td>Wired Headphones</td>\n",
              "      <td>1</td>\n",
              "      <td>11.99</td>\n",
              "      <td>04/30/19 09:27</td>\n",
              "      <td>333 8th St, Los Angeles, CA 90001</td>\n",
              "      <td>4</td>\n",
              "      <td>11.99</td>\n",
              "      <td>Los Angeles</td>\n",
              "    </tr>\n",
              "  </tbody>\n",
              "</table>\n",
              "</div>"
            ],
            "text/plain": [
              "  Order ID                     Product  Quantity Ordered  Price Each  \\\n",
              "0   176558        USB-C Charging Cable                 2       11.95   \n",
              "2   176559  Bose SoundSport Headphones                 1       99.99   \n",
              "3   176560                Google Phone                 1      600.00   \n",
              "4   176560            Wired Headphones                 1       11.99   \n",
              "5   176561            Wired Headphones                 1       11.99   \n",
              "\n",
              "       Order Date                      Purchase Address  Month   Sales  \\\n",
              "0  04/19/19 08:46          917 1st St, Dallas, TX 75001      4   23.90   \n",
              "2  04/07/19 22:30     682 Chestnut St, Boston, MA 02215      4   99.99   \n",
              "3  04/12/19 14:38  669 Spruce St, Los Angeles, CA 90001      4  600.00   \n",
              "4  04/12/19 14:38  669 Spruce St, Los Angeles, CA 90001      4   11.99   \n",
              "5  04/30/19 09:27     333 8th St, Los Angeles, CA 90001      4   11.99   \n",
              "\n",
              "          city  \n",
              "0       Dallas  \n",
              "2       Boston  \n",
              "3  Los Angeles  \n",
              "4  Los Angeles  \n",
              "5  Los Angeles  "
            ]
          },
          "execution_count": 52,
          "metadata": {},
          "output_type": "execute_result"
        }
      ],
      "source": [
        "df.head()"
      ]
    },
    {
      "cell_type": "code",
      "execution_count": null,
      "id": "0ed883a8",
      "metadata": {
        "id": "0ed883a8",
        "outputId": "0b726a10-fc44-4615-a1cf-f4bb88ba6a2f"
      },
      "outputs": [
        {
          "data": {
            "text/plain": [
              "city\n",
              "Dallas           14820\n",
              "Boston           19934\n",
              "Los Angeles      29605\n",
              "San Francisco    44732\n",
              "Seattle          14732\n",
              "Atlanta          14881\n",
              "New York City    24876\n",
              "Portland         12465\n",
              "Austin            9905\n",
              "Name: city, dtype: int64"
            ]
          },
          "execution_count": 53,
          "metadata": {},
          "output_type": "execute_result"
        }
      ],
      "source": [
        "df.groupby('city', sort=False)['city'].count()"
      ]
    },
    {
      "cell_type": "code",
      "execution_count": null,
      "id": "deb89bf3",
      "metadata": {
        "id": "deb89bf3",
        "outputId": "4d61b2c8-4df0-4994-d604-db1ec76b5eb1"
      },
      "outputs": [
        {
          "data": {
            "text/plain": [
              "Index(['Dallas', 'Boston', 'Los Angeles', 'San Francisco', 'Seattle',\n",
              "       'Atlanta', 'New York City', 'Portland', 'Austin'],\n",
              "      dtype='object', name='city')"
            ]
          },
          "execution_count": 54,
          "metadata": {},
          "output_type": "execute_result"
        }
      ],
      "source": [
        "df.groupby('city', sort=False)['city'].count().index"
      ]
    },
    {
      "cell_type": "code",
      "execution_count": null,
      "id": "5fbd5b13",
      "metadata": {
        "id": "5fbd5b13",
        "outputId": "e32e205b-b49a-425f-e7a3-317a94013596"
      },
      "outputs": [
        {
          "data": {
            "image/png": "[encoded data removed]",
            "text/plain": [
              "<Figure size 432x288 with 1 Axes>"
            ]
          },
          "metadata": {
            "needs_background": "light"
          },
          "output_type": "display_data"
        }
      ],
      "source": [
        "plt.bar(x=df.groupby('city', sort=False)['city'].count().index, height = df.groupby('city', sort=False)['city'].count())\n",
        "plt.ylabel('No. of Orders')\n",
        "plt.xticks(rotation='vertical')\n",
        "plt.show()"
      ]
    },
    {
      "cell_type": "code",
      "execution_count": null,
      "id": "f55308ea",
      "metadata": {
        "scrolled": true,
        "id": "f55308ea",
        "outputId": "d1df8da5-9b9c-4920-cb7b-e8f4f62c4dfc"
      },
      "outputs": [
        {
          "data": {
            "text/plain": [
              "city\n",
              "Dallas           14820\n",
              "Boston           19934\n",
              "Los Angeles      29605\n",
              "San Francisco    44732\n",
              "Seattle          14732\n",
              "Atlanta          14881\n",
              "New York City    24876\n",
              "Portland         12465\n",
              "Austin            9905\n",
              "Name: city, dtype: int64"
            ]
          },
          "execution_count": 56,
          "metadata": {},
          "output_type": "execute_result"
        }
      ],
      "source": [
        "df.groupby('city', sort=False)['city'].count()"
      ]
    },
    {
      "cell_type": "code",
      "execution_count": null,
      "id": "9e86b0d4",
      "metadata": {
        "id": "9e86b0d4",
        "outputId": "aacb9caa-a238-4ad9-e6b2-3224b1e20e94"
      },
      "outputs": [
        {
          "data": {
            "text/html": [
              "<div>\n",
              "<style scoped>\n",
              "    .dataframe tbody tr th:only-of-type {\n",
              "        vertical-align: middle;\n",
              "    }\n",
              "\n",
              "    .dataframe tbody tr th {\n",
              "        vertical-align: top;\n",
              "    }\n",
              "\n",
              "    .dataframe thead th {\n",
              "        text-align: right;\n",
              "    }\n",
              "</style>\n",
              "<table border=\"1\" class=\"dataframe\">\n",
              "  <thead>\n",
              "    <tr style=\"text-align: right;\">\n",
              "      <th></th>\n",
              "      <th>Order ID</th>\n",
              "      <th>Product</th>\n",
              "      <th>Quantity Ordered</th>\n",
              "      <th>Price Each</th>\n",
              "      <th>Order Date</th>\n",
              "      <th>Purchase Address</th>\n",
              "      <th>Month</th>\n",
              "      <th>Sales</th>\n",
              "      <th>city</th>\n",
              "    </tr>\n",
              "  </thead>\n",
              "  <tbody>\n",
              "    <tr>\n",
              "      <th>0</th>\n",
              "      <td>176558</td>\n",
              "      <td>USB-C Charging Cable</td>\n",
              "      <td>2</td>\n",
              "      <td>11.95</td>\n",
              "      <td>04/19/19 08:46</td>\n",
              "      <td>917 1st St, Dallas, TX 75001</td>\n",
              "      <td>4</td>\n",
              "      <td>23.90</td>\n",
              "      <td>Dallas</td>\n",
              "    </tr>\n",
              "    <tr>\n",
              "      <th>2</th>\n",
              "      <td>176559</td>\n",
              "      <td>Bose SoundSport Headphones</td>\n",
              "      <td>1</td>\n",
              "      <td>99.99</td>\n",
              "      <td>04/07/19 22:30</td>\n",
              "      <td>682 Chestnut St, Boston, MA 02215</td>\n",
              "      <td>4</td>\n",
              "      <td>99.99</td>\n",
              "      <td>Boston</td>\n",
              "    </tr>\n",
              "    <tr>\n",
              "      <th>3</th>\n",
              "      <td>176560</td>\n",
              "      <td>Google Phone</td>\n",
              "      <td>1</td>\n",
              "      <td>600.00</td>\n",
              "      <td>04/12/19 14:38</td>\n",
              "      <td>669 Spruce St, Los Angeles, CA 90001</td>\n",
              "      <td>4</td>\n",
              "      <td>600.00</td>\n",
              "      <td>Los Angeles</td>\n",
              "    </tr>\n",
              "    <tr>\n",
              "      <th>4</th>\n",
              "      <td>176560</td>\n",
              "      <td>Wired Headphones</td>\n",
              "      <td>1</td>\n",
              "      <td>11.99</td>\n",
              "      <td>04/12/19 14:38</td>\n",
              "      <td>669 Spruce St, Los Angeles, CA 90001</td>\n",
              "      <td>4</td>\n",
              "      <td>11.99</td>\n",
              "      <td>Los Angeles</td>\n",
              "    </tr>\n",
              "    <tr>\n",
              "      <th>5</th>\n",
              "      <td>176561</td>\n",
              "      <td>Wired Headphones</td>\n",
              "      <td>1</td>\n",
              "      <td>11.99</td>\n",
              "      <td>04/30/19 09:27</td>\n",
              "      <td>333 8th St, Los Angeles, CA 90001</td>\n",
              "      <td>4</td>\n",
              "      <td>11.99</td>\n",
              "      <td>Los Angeles</td>\n",
              "    </tr>\n",
              "  </tbody>\n",
              "</table>\n",
              "</div>"
            ],
            "text/plain": [
              "  Order ID                     Product  Quantity Ordered  Price Each  \\\n",
              "0   176558        USB-C Charging Cable                 2       11.95   \n",
              "2   176559  Bose SoundSport Headphones                 1       99.99   \n",
              "3   176560                Google Phone                 1      600.00   \n",
              "4   176560            Wired Headphones                 1       11.99   \n",
              "5   176561            Wired Headphones                 1       11.99   \n",
              "\n",
              "       Order Date                      Purchase Address  Month   Sales  \\\n",
              "0  04/19/19 08:46          917 1st St, Dallas, TX 75001      4   23.90   \n",
              "2  04/07/19 22:30     682 Chestnut St, Boston, MA 02215      4   99.99   \n",
              "3  04/12/19 14:38  669 Spruce St, Los Angeles, CA 90001      4  600.00   \n",
              "4  04/12/19 14:38  669 Spruce St, Los Angeles, CA 90001      4   11.99   \n",
              "5  04/30/19 09:27     333 8th St, Los Angeles, CA 90001      4   11.99   \n",
              "\n",
              "          city  \n",
              "0       Dallas  \n",
              "2       Boston  \n",
              "3  Los Angeles  \n",
              "4  Los Angeles  \n",
              "5  Los Angeles  "
            ]
          },
          "execution_count": 57,
          "metadata": {},
          "output_type": "execute_result"
        }
      ],
      "source": [
        "df.head()"
      ]
    },
    {
      "cell_type": "code",
      "execution_count": null,
      "id": "c4cc89a6",
      "metadata": {
        "id": "c4cc89a6",
        "outputId": "1de5871b-75f3-4da3-bddc-f8870650a92d"
      },
      "outputs": [
        {
          "data": {
            "text/plain": [
              "city\n",
              "Dallas           2767975.40\n",
              "Boston           3661642.01\n",
              "Los Angeles      5452570.80\n",
              "San Francisco    8262203.91\n",
              "Seattle          2747755.48\n",
              "Atlanta          2795498.58\n",
              "New York City    4664317.43\n",
              "Portland         2320490.61\n",
              "Austin           1819581.75\n",
              "Name: Sales, dtype: float64"
            ]
          },
          "execution_count": 58,
          "metadata": {},
          "output_type": "execute_result"
        }
      ],
      "source": [
        "df.groupby(df['city'],sort = False)['Sales'].sum()"
      ]
    },
    {
      "cell_type": "code",
      "execution_count": null,
      "id": "9cc612ab",
      "metadata": {
        "id": "9cc612ab",
        "outputId": "9022b506-e0c7-44f2-ba74-ed804822f047"
      },
      "outputs": [
        {
          "data": {
            "text/plain": [
              "Text(0, 0.5, 'Sales in Million $')"
            ]
          },
          "execution_count": 59,
          "metadata": {},
          "output_type": "execute_result"
        },
        {
          "data": {
            "image/png": "[encoded data removed]",
            "text/plain": [
              "<Figure size 432x288 with 1 Axes>"
            ]
          },
          "metadata": {
            "needs_background": "light"
          },
          "output_type": "display_data"
        }
      ],
      "source": [
        "plt.bar(x=df.groupby(df['city'],sort = False)['Sales'].sum().index, height = df.groupby(df['city'],sort = False)['Sales'].sum())\n",
        "plt.xticks(rotation='vertical')\n",
        "plt.ylabel('Sales in Million $')"
      ]
    },
    {
      "cell_type": "markdown",
      "id": "c87b2984",
      "metadata": {
        "id": "c87b2984"
      },
      "source": [
        "### What time should we display advertisements to maximise for product purchase?"
      ]
    },
    {
      "cell_type": "code",
      "execution_count": null,
      "id": "d55b4dbf",
      "metadata": {
        "id": "d55b4dbf",
        "outputId": "91f5bd7f-86d4-438d-f54e-b6b70c2340a8"
      },
      "outputs": [
        {
          "data": {
            "text/html": [
              "<div>\n",
              "<style scoped>\n",
              "    .dataframe tbody tr th:only-of-type {\n",
              "        vertical-align: middle;\n",
              "    }\n",
              "\n",
              "    .dataframe tbody tr th {\n",
              "        vertical-align: top;\n",
              "    }\n",
              "\n",
              "    .dataframe thead th {\n",
              "        text-align: right;\n",
              "    }\n",
              "</style>\n",
              "<table border=\"1\" class=\"dataframe\">\n",
              "  <thead>\n",
              "    <tr style=\"text-align: right;\">\n",
              "      <th></th>\n",
              "      <th>Order ID</th>\n",
              "      <th>Product</th>\n",
              "      <th>Quantity Ordered</th>\n",
              "      <th>Price Each</th>\n",
              "      <th>Order Date</th>\n",
              "      <th>Purchase Address</th>\n",
              "      <th>Month</th>\n",
              "      <th>Sales</th>\n",
              "      <th>city</th>\n",
              "    </tr>\n",
              "  </thead>\n",
              "  <tbody>\n",
              "    <tr>\n",
              "      <th>0</th>\n",
              "      <td>176558</td>\n",
              "      <td>USB-C Charging Cable</td>\n",
              "      <td>2</td>\n",
              "      <td>11.95</td>\n",
              "      <td>04/19/19 08:46</td>\n",
              "      <td>917 1st St, Dallas, TX 75001</td>\n",
              "      <td>4</td>\n",
              "      <td>23.90</td>\n",
              "      <td>Dallas</td>\n",
              "    </tr>\n",
              "    <tr>\n",
              "      <th>2</th>\n",
              "      <td>176559</td>\n",
              "      <td>Bose SoundSport Headphones</td>\n",
              "      <td>1</td>\n",
              "      <td>99.99</td>\n",
              "      <td>04/07/19 22:30</td>\n",
              "      <td>682 Chestnut St, Boston, MA 02215</td>\n",
              "      <td>4</td>\n",
              "      <td>99.99</td>\n",
              "      <td>Boston</td>\n",
              "    </tr>\n",
              "    <tr>\n",
              "      <th>3</th>\n",
              "      <td>176560</td>\n",
              "      <td>Google Phone</td>\n",
              "      <td>1</td>\n",
              "      <td>600.00</td>\n",
              "      <td>04/12/19 14:38</td>\n",
              "      <td>669 Spruce St, Los Angeles, CA 90001</td>\n",
              "      <td>4</td>\n",
              "      <td>600.00</td>\n",
              "      <td>Los Angeles</td>\n",
              "    </tr>\n",
              "    <tr>\n",
              "      <th>4</th>\n",
              "      <td>176560</td>\n",
              "      <td>Wired Headphones</td>\n",
              "      <td>1</td>\n",
              "      <td>11.99</td>\n",
              "      <td>04/12/19 14:38</td>\n",
              "      <td>669 Spruce St, Los Angeles, CA 90001</td>\n",
              "      <td>4</td>\n",
              "      <td>11.99</td>\n",
              "      <td>Los Angeles</td>\n",
              "    </tr>\n",
              "    <tr>\n",
              "      <th>5</th>\n",
              "      <td>176561</td>\n",
              "      <td>Wired Headphones</td>\n",
              "      <td>1</td>\n",
              "      <td>11.99</td>\n",
              "      <td>04/30/19 09:27</td>\n",
              "      <td>333 8th St, Los Angeles, CA 90001</td>\n",
              "      <td>4</td>\n",
              "      <td>11.99</td>\n",
              "      <td>Los Angeles</td>\n",
              "    </tr>\n",
              "  </tbody>\n",
              "</table>\n",
              "</div>"
            ],
            "text/plain": [
              "  Order ID                     Product  Quantity Ordered  Price Each  \\\n",
              "0   176558        USB-C Charging Cable                 2       11.95   \n",
              "2   176559  Bose SoundSport Headphones                 1       99.99   \n",
              "3   176560                Google Phone                 1      600.00   \n",
              "4   176560            Wired Headphones                 1       11.99   \n",
              "5   176561            Wired Headphones                 1       11.99   \n",
              "\n",
              "       Order Date                      Purchase Address  Month   Sales  \\\n",
              "0  04/19/19 08:46          917 1st St, Dallas, TX 75001      4   23.90   \n",
              "2  04/07/19 22:30     682 Chestnut St, Boston, MA 02215      4   99.99   \n",
              "3  04/12/19 14:38  669 Spruce St, Los Angeles, CA 90001      4  600.00   \n",
              "4  04/12/19 14:38  669 Spruce St, Los Angeles, CA 90001      4   11.99   \n",
              "5  04/30/19 09:27     333 8th St, Los Angeles, CA 90001      4   11.99   \n",
              "\n",
              "          city  \n",
              "0       Dallas  \n",
              "2       Boston  \n",
              "3  Los Angeles  \n",
              "4  Los Angeles  \n",
              "5  Los Angeles  "
            ]
          },
          "execution_count": 60,
          "metadata": {},
          "output_type": "execute_result"
        }
      ],
      "source": [
        "df.head()"
      ]
    },
    {
      "cell_type": "code",
      "execution_count": null,
      "id": "b66e902c",
      "metadata": {
        "id": "b66e902c",
        "outputId": "f34d8585-7cec-4290-82b6-21201da520ff"
      },
      "outputs": [
        {
          "name": "stderr",
          "output_type": "stream",
          "text": [
            "C:\\Users\\nitin\\AppData\\Local\\Temp\\ipykernel_19976\\1722919639.py:1: SettingWithCopyWarning: \n",
            "A value is trying to be set on a copy of a slice from a DataFrame.\n",
            "Try using .loc[row_indexer,col_indexer] = value instead\n",
            "\n",
            "See the caveats in the documentation: https://pandas.pydata.org/pandas-docs/stable/user_guide/indexing.html#returning-a-view-versus-a-copy\n",
            "  df['Order Date']=pd.to_datetime(df['Order Date'])\n"
          ]
        }
      ],
      "source": [
        "df['Order Date']=pd.to_datetime(df['Order Date'])"
      ]
    },
    {
      "cell_type": "code",
      "execution_count": null,
      "id": "2594a036",
      "metadata": {
        "id": "2594a036",
        "outputId": "35c3f0a6-7ade-4c3a-9ffc-bbc00dd24e84"
      },
      "outputs": [
        {
          "name": "stdout",
          "output_type": "stream",
          "text": [
            "<class 'pandas.core.frame.DataFrame'>\n",
            "Int64Index: 185950 entries, 0 to 186849\n",
            "Data columns (total 9 columns):\n",
            " #   Column            Non-Null Count   Dtype         \n",
            "---  ------            --------------   -----         \n",
            " 0   Order ID          185950 non-null  object        \n",
            " 1   Product           185950 non-null  object        \n",
            " 2   Quantity Ordered  185950 non-null  int32         \n",
            " 3   Price Each        185950 non-null  float64       \n",
            " 4   Order Date        185950 non-null  datetime64[ns]\n",
            " 5   Purchase Address  185950 non-null  object        \n",
            " 6   Month             185950 non-null  int32         \n",
            " 7   Sales             185950 non-null  float64       \n",
            " 8   city              185950 non-null  object        \n",
            "dtypes: datetime64[ns](1), float64(2), int32(2), object(4)\n",
            "memory usage: 16.8+ MB\n"
          ]
        }
      ],
      "source": [
        "df.info()"
      ]
    },
    {
      "cell_type": "code",
      "execution_count": null,
      "id": "1f3019c5",
      "metadata": {
        "id": "1f3019c5",
        "outputId": "897f821b-19f3-4f86-d4a2-82aa01969731"
      },
      "outputs": [
        {
          "name": "stderr",
          "output_type": "stream",
          "text": [
            "C:\\Users\\nitin\\AppData\\Local\\Temp\\ipykernel_19976\\2202323699.py:1: SettingWithCopyWarning: \n",
            "A value is trying to be set on a copy of a slice from a DataFrame.\n",
            "Try using .loc[row_indexer,col_indexer] = value instead\n",
            "\n",
            "See the caveats in the documentation: https://pandas.pydata.org/pandas-docs/stable/user_guide/indexing.html#returning-a-view-versus-a-copy\n",
            "  df['Hour']=df['Order Date'].dt.hour\n"
          ]
        }
      ],
      "source": [
        "df['Hour']=df['Order Date'].dt.hour\n"
      ]
    },
    {
      "cell_type": "code",
      "execution_count": null,
      "id": "d02dc5f4",
      "metadata": {
        "id": "d02dc5f4",
        "outputId": "6a907691-dedd-4712-ea33-c0eb3d65011d"
      },
      "outputs": [
        {
          "data": {
            "text/html": [
              "<div>\n",
              "<style scoped>\n",
              "    .dataframe tbody tr th:only-of-type {\n",
              "        vertical-align: middle;\n",
              "    }\n",
              "\n",
              "    .dataframe tbody tr th {\n",
              "        vertical-align: top;\n",
              "    }\n",
              "\n",
              "    .dataframe thead th {\n",
              "        text-align: right;\n",
              "    }\n",
              "</style>\n",
              "<table border=\"1\" class=\"dataframe\">\n",
              "  <thead>\n",
              "    <tr style=\"text-align: right;\">\n",
              "      <th></th>\n",
              "      <th>Order ID</th>\n",
              "      <th>Product</th>\n",
              "      <th>Quantity Ordered</th>\n",
              "      <th>Price Each</th>\n",
              "      <th>Order Date</th>\n",
              "      <th>Purchase Address</th>\n",
              "      <th>Month</th>\n",
              "      <th>Sales</th>\n",
              "      <th>city</th>\n",
              "      <th>Hour</th>\n",
              "    </tr>\n",
              "  </thead>\n",
              "  <tbody>\n",
              "    <tr>\n",
              "      <th>0</th>\n",
              "      <td>176558</td>\n",
              "      <td>USB-C Charging Cable</td>\n",
              "      <td>2</td>\n",
              "      <td>11.95</td>\n",
              "      <td>2019-04-19 08:46:00</td>\n",
              "      <td>917 1st St, Dallas, TX 75001</td>\n",
              "      <td>4</td>\n",
              "      <td>23.90</td>\n",
              "      <td>Dallas</td>\n",
              "      <td>8</td>\n",
              "    </tr>\n",
              "    <tr>\n",
              "      <th>2</th>\n",
              "      <td>176559</td>\n",
              "      <td>Bose SoundSport Headphones</td>\n",
              "      <td>1</td>\n",
              "      <td>99.99</td>\n",
              "      <td>2019-04-07 22:30:00</td>\n",
              "      <td>682 Chestnut St, Boston, MA 02215</td>\n",
              "      <td>4</td>\n",
              "      <td>99.99</td>\n",
              "      <td>Boston</td>\n",
              "      <td>22</td>\n",
              "    </tr>\n",
              "    <tr>\n",
              "      <th>3</th>\n",
              "      <td>176560</td>\n",
              "      <td>Google Phone</td>\n",
              "      <td>1</td>\n",
              "      <td>600.00</td>\n",
              "      <td>2019-04-12 14:38:00</td>\n",
              "      <td>669 Spruce St, Los Angeles, CA 90001</td>\n",
              "      <td>4</td>\n",
              "      <td>600.00</td>\n",
              "      <td>Los Angeles</td>\n",
              "      <td>14</td>\n",
              "    </tr>\n",
              "    <tr>\n",
              "      <th>4</th>\n",
              "      <td>176560</td>\n",
              "      <td>Wired Headphones</td>\n",
              "      <td>1</td>\n",
              "      <td>11.99</td>\n",
              "      <td>2019-04-12 14:38:00</td>\n",
              "      <td>669 Spruce St, Los Angeles, CA 90001</td>\n",
              "      <td>4</td>\n",
              "      <td>11.99</td>\n",
              "      <td>Los Angeles</td>\n",
              "      <td>14</td>\n",
              "    </tr>\n",
              "    <tr>\n",
              "      <th>5</th>\n",
              "      <td>176561</td>\n",
              "      <td>Wired Headphones</td>\n",
              "      <td>1</td>\n",
              "      <td>11.99</td>\n",
              "      <td>2019-04-30 09:27:00</td>\n",
              "      <td>333 8th St, Los Angeles, CA 90001</td>\n",
              "      <td>4</td>\n",
              "      <td>11.99</td>\n",
              "      <td>Los Angeles</td>\n",
              "      <td>9</td>\n",
              "    </tr>\n",
              "  </tbody>\n",
              "</table>\n",
              "</div>"
            ],
            "text/plain": [
              "  Order ID                     Product  Quantity Ordered  Price Each  \\\n",
              "0   176558        USB-C Charging Cable                 2       11.95   \n",
              "2   176559  Bose SoundSport Headphones                 1       99.99   \n",
              "3   176560                Google Phone                 1      600.00   \n",
              "4   176560            Wired Headphones                 1       11.99   \n",
              "5   176561            Wired Headphones                 1       11.99   \n",
              "\n",
              "           Order Date                      Purchase Address  Month   Sales  \\\n",
              "0 2019-04-19 08:46:00          917 1st St, Dallas, TX 75001      4   23.90   \n",
              "2 2019-04-07 22:30:00     682 Chestnut St, Boston, MA 02215      4   99.99   \n",
              "3 2019-04-12 14:38:00  669 Spruce St, Los Angeles, CA 90001      4  600.00   \n",
              "4 2019-04-12 14:38:00  669 Spruce St, Los Angeles, CA 90001      4   11.99   \n",
              "5 2019-04-30 09:27:00     333 8th St, Los Angeles, CA 90001      4   11.99   \n",
              "\n",
              "          city  Hour  \n",
              "0       Dallas     8  \n",
              "2       Boston    22  \n",
              "3  Los Angeles    14  \n",
              "4  Los Angeles    14  \n",
              "5  Los Angeles     9  "
            ]
          },
          "execution_count": 64,
          "metadata": {},
          "output_type": "execute_result"
        }
      ],
      "source": [
        "df.head()"
      ]
    },
    {
      "cell_type": "code",
      "execution_count": null,
      "id": "8706a425",
      "metadata": {
        "id": "8706a425",
        "outputId": "b8b9ce04-2c06-43b4-b97f-d60b73d0954f"
      },
      "outputs": [
        {
          "data": {
            "text/plain": [
              "Hour\n",
              "0      3910\n",
              "1      2350\n",
              "2      1243\n",
              "3       831\n",
              "4       854\n",
              "5      1321\n",
              "6      2482\n",
              "7      4011\n",
              "8      6256\n",
              "9      8748\n",
              "10    10944\n",
              "11    12411\n",
              "12    12587\n",
              "13    12129\n",
              "14    10984\n",
              "15    10175\n",
              "16    10384\n",
              "17    10899\n",
              "18    12280\n",
              "19    12905\n",
              "20    12228\n",
              "21    10921\n",
              "22     8822\n",
              "23     6275\n",
              "Name: Quantity Ordered, dtype: int64"
            ]
          },
          "execution_count": 65,
          "metadata": {},
          "output_type": "execute_result"
        }
      ],
      "source": [
        "df.groupby('Hour')['Quantity Ordered'].count()"
      ]
    },
    {
      "cell_type": "code",
      "execution_count": null,
      "id": "d6e26529",
      "metadata": {
        "id": "d6e26529",
        "outputId": "0db7886e-66b6-4f6e-d652-adedf5bf1f52"
      },
      "outputs": [
        {
          "data": {
            "image/png": "[encoded data removed]",
            "text/plain": [
              "<Figure size 432x288 with 1 Axes>"
            ]
          },
          "metadata": {
            "needs_background": "light"
          },
          "output_type": "display_data"
        }
      ],
      "source": [
        "plt.plot(df.groupby('Hour')['Quantity Ordered'].count().index, df.groupby('Hour')['Quantity Ordered'].count(),)\n",
        "plt.xlabel('Hours')\n",
        "plt.xticks(df.groupby('Hour')['Quantity Ordered'].count().index)\n",
        "plt.rcParams['figure.figsize'] = [15, 6]\n",
        "plt.show()"
      ]
    },
    {
      "cell_type": "code",
      "execution_count": null,
      "id": "b707b39e",
      "metadata": {
        "id": "b707b39e",
        "outputId": "ccbeecd6-08a8-4d42-abe4-1198168ff002"
      },
      "outputs": [
        {
          "data": {
            "text/plain": [
              "array([ 0,  1,  2,  3,  4,  5,  6,  7,  8,  9, 10, 11, 12, 13, 14, 15, 16,\n",
              "       17, 18, 19, 20, 21, 22, 23], dtype=int64)"
            ]
          },
          "execution_count": 67,
          "metadata": {},
          "output_type": "execute_result"
        }
      ],
      "source": [
        "hr = df['Hour'].unique()\n",
        "hr.sort()\n",
        "hr"
      ]
    },
    {
      "cell_type": "code",
      "execution_count": null,
      "id": "dceceffe",
      "metadata": {
        "id": "dceceffe",
        "outputId": "38e133c3-2fe0-4e5c-e037-cb845d583e38"
      },
      "outputs": [
        {
          "data": {
            "text/plain": [
              "(Index(['Atlanta', 'Austin', 'Boston', 'Dallas', 'Los Angeles', 'New York City',\n",
              "        'Portland', 'San Francisco', 'Seattle'],\n",
              "       dtype='object', name='city'),\n",
              " city\n",
              " Atlanta          14881\n",
              " Austin            9905\n",
              " Boston           19934\n",
              " Dallas           14820\n",
              " Los Angeles      29605\n",
              " New York City    24876\n",
              " Portland         12465\n",
              " San Francisco    44732\n",
              " Seattle          14732\n",
              " Name: city, dtype: int64)"
            ]
          },
          "execution_count": 70,
          "metadata": {},
          "output_type": "execute_result"
        }
      ],
      "source": [
        "df.groupby('city')['city'].count().index,df.groupby('city')['city'].count()"
      ]
    },
    {
      "cell_type": "code",
      "execution_count": null,
      "id": "7303ae16",
      "metadata": {
        "id": "7303ae16",
        "outputId": "7843d764-6f28-4ff8-cf64-0a37e533efae"
      },
      "outputs": [
        {
          "data": {
            "text/plain": [
              "Int64Index([ 0,  1,  2,  3,  4,  5,  6,  7,  8,  9, 10, 11, 12, 13, 14, 15, 16,\n",
              "            17, 18, 19, 20, 21, 22, 23],\n",
              "           dtype='int64', name='Hour')"
            ]
          },
          "execution_count": 71,
          "metadata": {},
          "output_type": "execute_result"
        }
      ],
      "source": [
        "df.groupby('Hour')['Quantity Ordered'].count().index"
      ]
    },
    {
      "cell_type": "markdown",
      "id": "6eb7d855",
      "metadata": {
        "id": "6eb7d855"
      },
      "source": [
        "##### Between 12pm and 7pm is probably the best time to advertise to maximise product purchase"
      ]
    },
    {
      "cell_type": "markdown",
      "id": "c8df98d1",
      "metadata": {
        "id": "c8df98d1"
      },
      "source": [
        "### What product sold most"
      ]
    },
    {
      "cell_type": "code",
      "execution_count": null,
      "id": "fd0619ed",
      "metadata": {
        "id": "fd0619ed",
        "outputId": "2f36e131-e02e-448c-e3f2-548e8726161b"
      },
      "outputs": [
        {
          "data": {
            "text/html": [
              "<div>\n",
              "<style scoped>\n",
              "    .dataframe tbody tr th:only-of-type {\n",
              "        vertical-align: middle;\n",
              "    }\n",
              "\n",
              "    .dataframe tbody tr th {\n",
              "        vertical-align: top;\n",
              "    }\n",
              "\n",
              "    .dataframe thead th {\n",
              "        text-align: right;\n",
              "    }\n",
              "</style>\n",
              "<table border=\"1\" class=\"dataframe\">\n",
              "  <thead>\n",
              "    <tr style=\"text-align: right;\">\n",
              "      <th></th>\n",
              "      <th>Order ID</th>\n",
              "      <th>Product</th>\n",
              "      <th>Quantity Ordered</th>\n",
              "      <th>Price Each</th>\n",
              "      <th>Order Date</th>\n",
              "      <th>Purchase Address</th>\n",
              "      <th>Month</th>\n",
              "      <th>Sales</th>\n",
              "      <th>city</th>\n",
              "      <th>Hour</th>\n",
              "    </tr>\n",
              "  </thead>\n",
              "  <tbody>\n",
              "    <tr>\n",
              "      <th>0</th>\n",
              "      <td>176558</td>\n",
              "      <td>USB-C Charging Cable</td>\n",
              "      <td>2</td>\n",
              "      <td>11.95</td>\n",
              "      <td>2019-04-19 08:46:00</td>\n",
              "      <td>917 1st St, Dallas, TX 75001</td>\n",
              "      <td>4</td>\n",
              "      <td>23.90</td>\n",
              "      <td>Dallas</td>\n",
              "      <td>8</td>\n",
              "    </tr>\n",
              "    <tr>\n",
              "      <th>2</th>\n",
              "      <td>176559</td>\n",
              "      <td>Bose SoundSport Headphones</td>\n",
              "      <td>1</td>\n",
              "      <td>99.99</td>\n",
              "      <td>2019-04-07 22:30:00</td>\n",
              "      <td>682 Chestnut St, Boston, MA 02215</td>\n",
              "      <td>4</td>\n",
              "      <td>99.99</td>\n",
              "      <td>Boston</td>\n",
              "      <td>22</td>\n",
              "    </tr>\n",
              "    <tr>\n",
              "      <th>3</th>\n",
              "      <td>176560</td>\n",
              "      <td>Google Phone</td>\n",
              "      <td>1</td>\n",
              "      <td>600.00</td>\n",
              "      <td>2019-04-12 14:38:00</td>\n",
              "      <td>669 Spruce St, Los Angeles, CA 90001</td>\n",
              "      <td>4</td>\n",
              "      <td>600.00</td>\n",
              "      <td>Los Angeles</td>\n",
              "      <td>14</td>\n",
              "    </tr>\n",
              "    <tr>\n",
              "      <th>4</th>\n",
              "      <td>176560</td>\n",
              "      <td>Wired Headphones</td>\n",
              "      <td>1</td>\n",
              "      <td>11.99</td>\n",
              "      <td>2019-04-12 14:38:00</td>\n",
              "      <td>669 Spruce St, Los Angeles, CA 90001</td>\n",
              "      <td>4</td>\n",
              "      <td>11.99</td>\n",
              "      <td>Los Angeles</td>\n",
              "      <td>14</td>\n",
              "    </tr>\n",
              "    <tr>\n",
              "      <th>5</th>\n",
              "      <td>176561</td>\n",
              "      <td>Wired Headphones</td>\n",
              "      <td>1</td>\n",
              "      <td>11.99</td>\n",
              "      <td>2019-04-30 09:27:00</td>\n",
              "      <td>333 8th St, Los Angeles, CA 90001</td>\n",
              "      <td>4</td>\n",
              "      <td>11.99</td>\n",
              "      <td>Los Angeles</td>\n",
              "      <td>9</td>\n",
              "    </tr>\n",
              "  </tbody>\n",
              "</table>\n",
              "</div>"
            ],
            "text/plain": [
              "  Order ID                     Product  Quantity Ordered  Price Each  \\\n",
              "0   176558        USB-C Charging Cable                 2       11.95   \n",
              "2   176559  Bose SoundSport Headphones                 1       99.99   \n",
              "3   176560                Google Phone                 1      600.00   \n",
              "4   176560            Wired Headphones                 1       11.99   \n",
              "5   176561            Wired Headphones                 1       11.99   \n",
              "\n",
              "           Order Date                      Purchase Address  Month   Sales  \\\n",
              "0 2019-04-19 08:46:00          917 1st St, Dallas, TX 75001      4   23.90   \n",
              "2 2019-04-07 22:30:00     682 Chestnut St, Boston, MA 02215      4   99.99   \n",
              "3 2019-04-12 14:38:00  669 Spruce St, Los Angeles, CA 90001      4  600.00   \n",
              "4 2019-04-12 14:38:00  669 Spruce St, Los Angeles, CA 90001      4   11.99   \n",
              "5 2019-04-30 09:27:00     333 8th St, Los Angeles, CA 90001      4   11.99   \n",
              "\n",
              "          city  Hour  \n",
              "0       Dallas     8  \n",
              "2       Boston    22  \n",
              "3  Los Angeles    14  \n",
              "4  Los Angeles    14  \n",
              "5  Los Angeles     9  "
            ]
          },
          "execution_count": 72,
          "metadata": {},
          "output_type": "execute_result"
        }
      ],
      "source": [
        "df.head()"
      ]
    },
    {
      "cell_type": "code",
      "execution_count": null,
      "id": "7707433f",
      "metadata": {
        "id": "7707433f",
        "outputId": "d4128713-0b34-4e0d-ecf9-ee1c909e0953"
      },
      "outputs": [
        {
          "data": {
            "text/plain": [
              "Product\n",
              "20in Monitor                   4129\n",
              "27in 4K Gaming Monitor         6244\n",
              "27in FHD Monitor               7550\n",
              "34in Ultrawide Monitor         6199\n",
              "AA Batteries (4-pack)         27635\n",
              "AAA Batteries (4-pack)        31017\n",
              "Apple Airpods Headphones      15661\n",
              "Bose SoundSport Headphones    13457\n",
              "Flatscreen TV                  4819\n",
              "Google Phone                   5532\n",
              "LG Dryer                        646\n",
              "LG Washing Machine              666\n",
              "Lightning Charging Cable      23217\n",
              "Macbook Pro Laptop             4728\n",
              "ThinkPad Laptop                4130\n",
              "USB-C Charging Cable          23975\n",
              "Vareebadd Phone                2068\n",
              "Wired Headphones              20557\n",
              "iPhone                         6849\n",
              "Name: Quantity Ordered, dtype: int32"
            ]
          },
          "execution_count": 73,
          "metadata": {},
          "output_type": "execute_result"
        }
      ],
      "source": [
        "df.groupby('Product')['Quantity Ordered'].sum()"
      ]
    },
    {
      "cell_type": "code",
      "execution_count": null,
      "id": "2d7003b9",
      "metadata": {
        "id": "2d7003b9",
        "outputId": "8382d2c6-ed00-47d6-9b49-326794be472f"
      },
      "outputs": [
        {
          "data": {
            "text/plain": [
              "<BarContainer object of 19 artists>"
            ]
          },
          "execution_count": 74,
          "metadata": {},
          "output_type": "execute_result"
        },
        {
          "data": {
            "image/png": "[encoded data removed]",
            "text/plain": [
              "<Figure size 1080x432 with 1 Axes>"
            ]
          },
          "metadata": {
            "needs_background": "light"
          },
          "output_type": "display_data"
        }
      ],
      "source": [
        "plt.barh(df.groupby('Product')['Product'].count().index, df.groupby('Product')['Quantity Ordered'].sum(), height= 0.6)"
      ]
    },
    {
      "cell_type": "markdown",
      "id": "3310843d",
      "metadata": {
        "id": "3310843d"
      },
      "source": [
        "#### The top selling product is 'AAA Batteries'."
      ]
    },
    {
      "cell_type": "code",
      "execution_count": null,
      "id": "b601258b",
      "metadata": {
        "id": "b601258b",
        "outputId": "a7d2a38e-dd34-487d-eff8-0774177b9729"
      },
      "outputs": [
        {
          "data": {
            "text/plain": [
              "Index(['20in Monitor', '27in 4K Gaming Monitor', '27in FHD Monitor',\n",
              "       '34in Ultrawide Monitor', 'AA Batteries (4-pack)',\n",
              "       'AAA Batteries (4-pack)', 'Apple Airpods Headphones',\n",
              "       'Bose SoundSport Headphones', 'Flatscreen TV', 'Google Phone',\n",
              "       'LG Dryer', 'LG Washing Machine', 'Lightning Charging Cable',\n",
              "       'Macbook Pro Laptop', 'ThinkPad Laptop', 'USB-C Charging Cable',\n",
              "       'Vareebadd Phone', 'Wired Headphones', 'iPhone'],\n",
              "      dtype='object', name='Product')"
            ]
          },
          "execution_count": 75,
          "metadata": {},
          "output_type": "execute_result"
        }
      ],
      "source": [
        "df.groupby('Product')['Product'].count().index"
      ]
    },
    {
      "cell_type": "code",
      "execution_count": null,
      "id": "55b55612",
      "metadata": {
        "id": "55b55612",
        "outputId": "cee25900-ecba-4cae-8bf5-30b3d143edf0"
      },
      "outputs": [
        {
          "data": {
            "text/plain": [
              "Product\n",
              "20in Monitor                   109.99\n",
              "27in 4K Gaming Monitor         389.99\n",
              "27in FHD Monitor               149.99\n",
              "34in Ultrawide Monitor         379.99\n",
              "AA Batteries (4-pack)            3.84\n",
              "AAA Batteries (4-pack)           2.99\n",
              "Apple Airpods Headphones       150.00\n",
              "Bose SoundSport Headphones      99.99\n",
              "Flatscreen TV                  300.00\n",
              "Google Phone                   600.00\n",
              "LG Dryer                       600.00\n",
              "LG Washing Machine             600.00\n",
              "Lightning Charging Cable        14.95\n",
              "Macbook Pro Laptop            1700.00\n",
              "ThinkPad Laptop                999.99\n",
              "USB-C Charging Cable            11.95\n",
              "Vareebadd Phone                400.00\n",
              "Wired Headphones                11.99\n",
              "iPhone                         700.00\n",
              "Name: Price Each, dtype: float64"
            ]
          },
          "execution_count": 76,
          "metadata": {},
          "output_type": "execute_result"
        }
      ],
      "source": [
        "df.groupby('Product')['Price Each'].mean()"
      ]
    },
    {
      "cell_type": "code",
      "execution_count": null,
      "id": "67f706ca",
      "metadata": {
        "id": "67f706ca"
      },
      "outputs": [],
      "source": [
        "products=df.groupby('Product')['Quantity Ordered'].sum().index\n",
        "quantity=df.groupby('Product')['Quantity Ordered'].sum()\n",
        "prices=df.groupby('Product')['Price Each'].mean()"
      ]
    },
    {
      "cell_type": "code",
      "execution_count": null,
      "id": "a4e1d67b",
      "metadata": {
        "id": "a4e1d67b",
        "outputId": "bf8024dd-485e-4050-e9fd-decd37f90be5"
      },
      "outputs": [
        {
          "name": "stderr",
          "output_type": "stream",
          "text": [
            "C:\\Users\\nitin\\AppData\\Local\\Temp\\ipykernel_19976\\2263540929.py:6: UserWarning: FixedFormatter should only be used together with FixedLocator\n",
            "  ax1.set_xticklabels(products, rotation='vertical', size=8)\n"
          ]
        },
        {
          "data": {
            "text/plain": [
              "[Text(0, 0, '20in Monitor'),\n",
              " Text(1, 0, '27in 4K Gaming Monitor'),\n",
              " Text(2, 0, '27in FHD Monitor'),\n",
              " Text(3, 0, '34in Ultrawide Monitor'),\n",
              " Text(4, 0, 'AA Batteries (4-pack)'),\n",
              " Text(5, 0, 'AAA Batteries (4-pack)'),\n",
              " Text(6, 0, 'Apple Airpods Headphones'),\n",
              " Text(7, 0, 'Bose SoundSport Headphones'),\n",
              " Text(8, 0, 'Flatscreen TV'),\n",
              " Text(9, 0, 'Google Phone'),\n",
              " Text(10, 0, 'LG Dryer'),\n",
              " Text(11, 0, 'LG Washing Machine'),\n",
              " Text(12, 0, 'Lightning Charging Cable'),\n",
              " Text(13, 0, 'Macbook Pro Laptop'),\n",
              " Text(14, 0, 'ThinkPad Laptop'),\n",
              " Text(15, 0, 'USB-C Charging Cable'),\n",
              " Text(16, 0, 'Vareebadd Phone'),\n",
              " Text(17, 0, 'Wired Headphones'),\n",
              " Text(18, 0, 'iPhone')]"
            ]
          },
          "execution_count": 78,
          "metadata": {},
          "output_type": "execute_result"
        },
        {
          "data": {
            "text/plain": [
              "<Figure size 2880x1728 with 0 Axes>"
            ]
          },
          "metadata": {},
          "output_type": "display_data"
        },
        {
          "data": {
            "image/png": "[encoded data removed]",
            "text/plain": [
              "<Figure size 1080x432 with 2 Axes>"
            ]
          },
          "metadata": {
            "needs_background": "light"
          },
          "output_type": "display_data"
        }
      ],
      "source": [
        "plt.figure(figsize=(40,24))\n",
        "fig,ax1 = plt.subplots()\n",
        "ax2=ax1.twinx()\n",
        "ax1.bar(products, quantity, color='g')\n",
        "ax2.plot(products, prices, 'b-')\n",
        "ax1.set_xticklabels(products, rotation='vertical', size=8)"
      ]
    },
    {
      "cell_type": "markdown",
      "id": "815596f0",
      "metadata": {
        "id": "815596f0"
      },
      "source": [
        "#### The top selling products seem to have a correlation with the price of the product. The cheaper the product higher the quantity ordered and vice versa."
      ]
    }
  ],
  "metadata": {
    "kernelspec": {
      "display_name": "Python 3 (ipykernel)",
      "language": "python",
      "name": "python3"
    },
    "language_info": {
      "codemirror_mode": {
        "name": "ipython",
        "version": 3
      },
      "file_extension": ".py",
      "mimetype": "text/x-python",
      "name": "python",
      "nbconvert_exporter": "python",
      "pygments_lexer": "ipython3",
      "version": "3.9.12"
    },
    "colab": {
      "provenance": [],
      "include_colab_link": true
    }
  },
  "nbformat": 4,
  "nbformat_minor": 5
}